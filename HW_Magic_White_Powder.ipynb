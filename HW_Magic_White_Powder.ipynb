{
 "cells": [
  {
   "cell_type": "code",
   "execution_count": 102,
   "id": "87338acd",
   "metadata": {},
   "outputs": [],
   "source": [
    "%matplotlib inline\n",
    "import yfinance as yf\n",
    "import pandas as pd\n",
    "import matplotlib.pyplot as plt\n",
    "import seaborn as sns; seaborn.set()\n",
    "from pandas_datareader import data as pdr\n",
    "from bs4 import BeautifulSoup\n"
   ]
  },
  {
   "cell_type": "code",
   "execution_count": 103,
   "id": "2d039b27",
   "metadata": {},
   "outputs": [
    {
     "data": {
      "text/html": [
       "<div>\n",
       "<style scoped>\n",
       "    .dataframe tbody tr th:only-of-type {\n",
       "        vertical-align: middle;\n",
       "    }\n",
       "\n",
       "    .dataframe tbody tr th {\n",
       "        vertical-align: top;\n",
       "    }\n",
       "\n",
       "    .dataframe thead th {\n",
       "        text-align: right;\n",
       "    }\n",
       "</style>\n",
       "<table border=\"1\" class=\"dataframe\">\n",
       "  <thead>\n",
       "    <tr style=\"text-align: right;\">\n",
       "      <th></th>\n",
       "      <th>Date</th>\n",
       "      <th>EURUSD=X</th>\n",
       "      <th>OIL</th>\n",
       "    </tr>\n",
       "  </thead>\n",
       "  <tbody>\n",
       "    <tr>\n",
       "      <th>0</th>\n",
       "      <td>2018-01-01</td>\n",
       "      <td>1.2005</td>\n",
       "      <td>NaN</td>\n",
       "    </tr>\n",
       "    <tr>\n",
       "      <th>1</th>\n",
       "      <td>2018-01-02</td>\n",
       "      <td>1.2012</td>\n",
       "      <td>59.15</td>\n",
       "    </tr>\n",
       "    <tr>\n",
       "      <th>2</th>\n",
       "      <td>2018-01-03</td>\n",
       "      <td>1.2063</td>\n",
       "      <td>59.15</td>\n",
       "    </tr>\n",
       "    <tr>\n",
       "      <th>3</th>\n",
       "      <td>2018-01-04</td>\n",
       "      <td>1.2010</td>\n",
       "      <td>59.15</td>\n",
       "    </tr>\n",
       "    <tr>\n",
       "      <th>4</th>\n",
       "      <td>2018-01-05</td>\n",
       "      <td>1.2069</td>\n",
       "      <td>60.44</td>\n",
       "    </tr>\n",
       "    <tr>\n",
       "      <th>...</th>\n",
       "      <td>...</td>\n",
       "      <td>...</td>\n",
       "      <td>...</td>\n",
       "    </tr>\n",
       "    <tr>\n",
       "      <th>341</th>\n",
       "      <td>2019-04-23</td>\n",
       "      <td>1.1259</td>\n",
       "      <td>67.72</td>\n",
       "    </tr>\n",
       "    <tr>\n",
       "      <th>342</th>\n",
       "      <td>2019-04-24</td>\n",
       "      <td>1.1224</td>\n",
       "      <td>67.14</td>\n",
       "    </tr>\n",
       "    <tr>\n",
       "      <th>343</th>\n",
       "      <td>2019-04-25</td>\n",
       "      <td>1.1153</td>\n",
       "      <td>66.37</td>\n",
       "    </tr>\n",
       "    <tr>\n",
       "      <th>344</th>\n",
       "      <td>2019-04-26</td>\n",
       "      <td>1.1137</td>\n",
       "      <td>64.27</td>\n",
       "    </tr>\n",
       "    <tr>\n",
       "      <th>345</th>\n",
       "      <td>2019-04-29</td>\n",
       "      <td>1.1150</td>\n",
       "      <td>64.94</td>\n",
       "    </tr>\n",
       "  </tbody>\n",
       "</table>\n",
       "<p>346 rows × 3 columns</p>\n",
       "</div>"
      ],
      "text/plain": [
       "          Date  EURUSD=X    OIL\n",
       "0   2018-01-01    1.2005    NaN\n",
       "1   2018-01-02    1.2012  59.15\n",
       "2   2018-01-03    1.2063  59.15\n",
       "3   2018-01-04    1.2010  59.15\n",
       "4   2018-01-05    1.2069  60.44\n",
       "..         ...       ...    ...\n",
       "341 2019-04-23    1.1259  67.72\n",
       "342 2019-04-24    1.1224  67.14\n",
       "343 2019-04-25    1.1153  66.37\n",
       "344 2019-04-26    1.1137  64.27\n",
       "345 2019-04-29    1.1150  64.94\n",
       "\n",
       "[346 rows x 3 columns]"
      ]
     },
     "execution_count": 103,
     "metadata": {},
     "output_type": "execute_result"
    }
   ],
   "source": [
    "# Котировки нефти, курс eur/usd\n",
    "dbc = pd.read_excel('cur_oil.xlsx')\n",
    "dbc"
   ]
  },
  {
   "cell_type": "code",
   "execution_count": 104,
   "id": "c7878e2f",
   "metadata": {},
   "outputs": [],
   "source": [
    "# Затраты на производство\n",
    "PRODUCTION_COST = 400 # (EUR)"
   ]
  },
  {
   "cell_type": "code",
   "execution_count": 105,
   "id": "324b26e5",
   "metadata": {},
   "outputs": [],
   "source": [
    "# Расходы на логистику\n",
    "EU_LOGISTIC_COST_EUR = 30 # в Европу в евро\n",
    "CN_LOGISTIC_COST_USD = 130 # в Китай в долларах"
   ]
  },
  {
   "cell_type": "code",
   "execution_count": 107,
   "id": "4df3daeb",
   "metadata": {},
   "outputs": [
    {
     "data": {
      "text/html": [
       "<div>\n",
       "<style scoped>\n",
       "    .dataframe tbody tr th:only-of-type {\n",
       "        vertical-align: middle;\n",
       "    }\n",
       "\n",
       "    .dataframe tbody tr th {\n",
       "        vertical-align: top;\n",
       "    }\n",
       "\n",
       "    .dataframe thead th {\n",
       "        text-align: right;\n",
       "    }\n",
       "</style>\n",
       "<table border=\"1\" class=\"dataframe\">\n",
       "  <thead>\n",
       "    <tr style=\"text-align: right;\">\n",
       "      <th></th>\n",
       "      <th>Monty</th>\n",
       "      <th>Triangle</th>\n",
       "      <th>Stone</th>\n",
       "      <th>Poly</th>\n",
       "    </tr>\n",
       "  </thead>\n",
       "  <tbody>\n",
       "    <tr>\n",
       "      <th>location</th>\n",
       "      <td>EU</td>\n",
       "      <td>CN</td>\n",
       "      <td>EU</td>\n",
       "      <td>EU</td>\n",
       "    </tr>\n",
       "    <tr>\n",
       "      <th>volumes</th>\n",
       "      <td>200</td>\n",
       "      <td>30</td>\n",
       "      <td>150</td>\n",
       "      <td>70</td>\n",
       "    </tr>\n",
       "    <tr>\n",
       "      <th>comment</th>\n",
       "      <td>moving_average</td>\n",
       "      <td>monthly</td>\n",
       "      <td>moving_average</td>\n",
       "      <td>monthly</td>\n",
       "    </tr>\n",
       "  </tbody>\n",
       "</table>\n",
       "</div>"
      ],
      "text/plain": [
       "                   Monty Triangle           Stone     Poly\n",
       "location              EU       CN              EU       EU\n",
       "volumes              200       30             150       70\n",
       "comment   moving_average  monthly  moving_average  monthly"
      ]
     },
     "execution_count": 107,
     "metadata": {},
     "output_type": "execute_result"
    }
   ],
   "source": [
    "df_cust = pd.DataFrame(customers)\n",
    "df_cust"
   ]
  },
  {
   "cell_type": "code",
   "execution_count": 115,
   "id": "15984dd5",
   "metadata": {},
   "outputs": [
    {
     "data": {
      "text/html": [
       "<div>\n",
       "<style scoped>\n",
       "    .dataframe tbody tr th:only-of-type {\n",
       "        vertical-align: middle;\n",
       "    }\n",
       "\n",
       "    .dataframe tbody tr th {\n",
       "        vertical-align: top;\n",
       "    }\n",
       "\n",
       "    .dataframe thead th {\n",
       "        text-align: right;\n",
       "    }\n",
       "</style>\n",
       "<table border=\"1\" class=\"dataframe\">\n",
       "  <thead>\n",
       "    <tr style=\"text-align: right;\">\n",
       "      <th></th>\n",
       "      <th>up to 100</th>\n",
       "      <th>up to 300</th>\n",
       "      <th>300 plus</th>\n",
       "    </tr>\n",
       "  </thead>\n",
       "  <tbody>\n",
       "    <tr>\n",
       "      <th>discounts</th>\n",
       "      <td>0.01</td>\n",
       "      <td>0.05</td>\n",
       "      <td>0.1</td>\n",
       "    </tr>\n",
       "  </tbody>\n",
       "</table>\n",
       "</div>"
      ],
      "text/plain": [
       "           up to 100  up to 300  300 plus\n",
       "discounts       0.01       0.05       0.1"
      ]
     },
     "execution_count": 115,
     "metadata": {},
     "output_type": "execute_result"
    }
   ],
   "source": [
    "#скидка\n",
    "df_dis = pd.DataFrame(discounts, index=['discounts'])\n",
    "df_dis"
   ]
  },
  {
   "cell_type": "code",
   "execution_count": 110,
   "id": "525a3574",
   "metadata": {},
   "outputs": [],
   "source": [
    "# Из данных есть:\n",
    "# Цены на продукт А, который уже есть на рынке Европы\n",
    "# ----- октябрь 2018 - 1600 евро\n",
    "# ----- ноябрь 2018 - 1550 евро\n",
    "# ----- февраль 2019 - 1600 евро"
   ]
  },
  {
   "cell_type": "code",
   "execution_count": 111,
   "id": "26ef728e",
   "metadata": {},
   "outputs": [],
   "source": [
    "#цена на новый продукт - затраты нефть + производство\n",
    "cost_mwp_eur = dbc['OIL']*16 + PRODUCTION_COST"
   ]
  },
  {
   "cell_type": "code",
   "execution_count": 112,
   "id": "8bca0a41",
   "metadata": {},
   "outputs": [],
   "source": [
    "dbc['cost_mwp_eur'] = cost_mwp_eur"
   ]
  },
  {
   "cell_type": "code",
   "execution_count": 116,
   "id": "c1dbb03b",
   "metadata": {},
   "outputs": [],
   "source": [
    "dbc['cost_mwp_usd'] = cost_mwp_eur/ dbc['EURUSD=X'] "
   ]
  },
  {
   "cell_type": "code",
   "execution_count": 117,
   "id": "836890b3",
   "metadata": {},
   "outputs": [
    {
     "data": {
      "text/html": [
       "<div>\n",
       "<style scoped>\n",
       "    .dataframe tbody tr th:only-of-type {\n",
       "        vertical-align: middle;\n",
       "    }\n",
       "\n",
       "    .dataframe tbody tr th {\n",
       "        vertical-align: top;\n",
       "    }\n",
       "\n",
       "    .dataframe thead th {\n",
       "        text-align: right;\n",
       "    }\n",
       "</style>\n",
       "<table border=\"1\" class=\"dataframe\">\n",
       "  <thead>\n",
       "    <tr style=\"text-align: right;\">\n",
       "      <th></th>\n",
       "      <th>Date</th>\n",
       "      <th>EURUSD=X</th>\n",
       "      <th>OIL</th>\n",
       "      <th>cost_mwp_eur</th>\n",
       "      <th>cost_mwp_usd</th>\n",
       "    </tr>\n",
       "  </thead>\n",
       "  <tbody>\n",
       "    <tr>\n",
       "      <th>0</th>\n",
       "      <td>2018-01-01</td>\n",
       "      <td>1.2005</td>\n",
       "      <td>NaN</td>\n",
       "      <td>NaN</td>\n",
       "      <td>NaN</td>\n",
       "    </tr>\n",
       "    <tr>\n",
       "      <th>1</th>\n",
       "      <td>2018-01-02</td>\n",
       "      <td>1.2012</td>\n",
       "      <td>59.15</td>\n",
       "      <td>1346.40</td>\n",
       "      <td>1120.879121</td>\n",
       "    </tr>\n",
       "    <tr>\n",
       "      <th>2</th>\n",
       "      <td>2018-01-03</td>\n",
       "      <td>1.2063</td>\n",
       "      <td>59.15</td>\n",
       "      <td>1346.40</td>\n",
       "      <td>1116.140264</td>\n",
       "    </tr>\n",
       "    <tr>\n",
       "      <th>3</th>\n",
       "      <td>2018-01-04</td>\n",
       "      <td>1.2010</td>\n",
       "      <td>59.15</td>\n",
       "      <td>1346.40</td>\n",
       "      <td>1121.065779</td>\n",
       "    </tr>\n",
       "    <tr>\n",
       "      <th>4</th>\n",
       "      <td>2018-01-05</td>\n",
       "      <td>1.2069</td>\n",
       "      <td>60.44</td>\n",
       "      <td>1367.04</td>\n",
       "      <td>1132.687049</td>\n",
       "    </tr>\n",
       "    <tr>\n",
       "      <th>...</th>\n",
       "      <td>...</td>\n",
       "      <td>...</td>\n",
       "      <td>...</td>\n",
       "      <td>...</td>\n",
       "      <td>...</td>\n",
       "    </tr>\n",
       "    <tr>\n",
       "      <th>341</th>\n",
       "      <td>2019-04-23</td>\n",
       "      <td>1.1259</td>\n",
       "      <td>67.72</td>\n",
       "      <td>1483.52</td>\n",
       "      <td>1317.630340</td>\n",
       "    </tr>\n",
       "    <tr>\n",
       "      <th>342</th>\n",
       "      <td>2019-04-24</td>\n",
       "      <td>1.1224</td>\n",
       "      <td>67.14</td>\n",
       "      <td>1474.24</td>\n",
       "      <td>1313.471133</td>\n",
       "    </tr>\n",
       "    <tr>\n",
       "      <th>343</th>\n",
       "      <td>2019-04-25</td>\n",
       "      <td>1.1153</td>\n",
       "      <td>66.37</td>\n",
       "      <td>1461.92</td>\n",
       "      <td>1310.786336</td>\n",
       "    </tr>\n",
       "    <tr>\n",
       "      <th>344</th>\n",
       "      <td>2019-04-26</td>\n",
       "      <td>1.1137</td>\n",
       "      <td>64.27</td>\n",
       "      <td>1428.32</td>\n",
       "      <td>1282.499776</td>\n",
       "    </tr>\n",
       "    <tr>\n",
       "      <th>345</th>\n",
       "      <td>2019-04-29</td>\n",
       "      <td>1.1150</td>\n",
       "      <td>64.94</td>\n",
       "      <td>1439.04</td>\n",
       "      <td>1290.618834</td>\n",
       "    </tr>\n",
       "  </tbody>\n",
       "</table>\n",
       "<p>346 rows × 5 columns</p>\n",
       "</div>"
      ],
      "text/plain": [
       "          Date  EURUSD=X    OIL  cost_mwp_eur  cost_mwp_usd\n",
       "0   2018-01-01    1.2005    NaN           NaN           NaN\n",
       "1   2018-01-02    1.2012  59.15       1346.40   1120.879121\n",
       "2   2018-01-03    1.2063  59.15       1346.40   1116.140264\n",
       "3   2018-01-04    1.2010  59.15       1346.40   1121.065779\n",
       "4   2018-01-05    1.2069  60.44       1367.04   1132.687049\n",
       "..         ...       ...    ...           ...           ...\n",
       "341 2019-04-23    1.1259  67.72       1483.52   1317.630340\n",
       "342 2019-04-24    1.1224  67.14       1474.24   1313.471133\n",
       "343 2019-04-25    1.1153  66.37       1461.92   1310.786336\n",
       "344 2019-04-26    1.1137  64.27       1428.32   1282.499776\n",
       "345 2019-04-29    1.1150  64.94       1439.04   1290.618834\n",
       "\n",
       "[346 rows x 5 columns]"
      ]
     },
     "execution_count": 117,
     "metadata": {},
     "output_type": "execute_result"
    }
   ],
   "source": [
    "dbc"
   ]
  },
  {
   "cell_type": "code",
   "execution_count": 114,
   "id": "8a2aeaa3",
   "metadata": {
    "scrolled": true
   },
   "outputs": [
    {
     "data": {
      "image/png": "[encoded data removed]",
      "text/plain": [
       "<Figure size 360x360 with 1 Axes>"
      ]
     },
     "metadata": {},
     "output_type": "display_data"
    }
   ],
   "source": [
    "sns.set(style='darkgrid')  \n",
    "\n",
    "sns.relplot(\n",
    "    x='Date', \n",
    "    y='cost_mwp_eur', \n",
    "    data=dbc, \n",
    "#     data=snacks_sales[snacks_sales[\"Period\"] < 300], \n",
    "    kind='line'\n",
    ")\n",
    "plt.title('Себестоимость \"ВБП\" в EUR', size=20, color='g');"
   ]
  },
  {
   "cell_type": "code",
   "execution_count": 118,
   "id": "167fbe22",
   "metadata": {},
   "outputs": [
    {
     "data": {
      "image/png": "[encoded data removed]",
      "text/plain": [
       "<Figure size 360x360 with 1 Axes>"
      ]
     },
     "metadata": {},
     "output_type": "display_data"
    }
   ],
   "source": [
    "sns.set(style='darkgrid')  \n",
    "\n",
    "sns.relplot(\n",
    "    x='Date', \n",
    "    y='cost_mwp_usd', \n",
    "    data=dbc, \n",
    "#     data=snacks_sales[snacks_sales[\"Period\"] < 300], \n",
    "    kind='line'\n",
    ")\n",
    "plt.title('Себестоимость \"ВБП\" в USD', size=20, color='g');"
   ]
  },
  {
   "cell_type": "code",
   "execution_count": null,
   "id": "6d07278b",
   "metadata": {},
   "outputs": [],
   "source": [
    "#Сделать расчет возможной цены по формуле для каждого из клиентов на условиях DDP (цена с доставкой). \n",
    "#Записать все в один эксель файл, на разных листах. Каждый лист - название клиента."
   ]
  },
  {
   "cell_type": "code",
   "execution_count": null,
   "id": "37096497",
   "metadata": {},
   "outputs": [],
   "source": [
    "#цена для клиента = цена в зависимости от локации* доставка в зависимости от локации*дисконт в завис от обьема"
   ]
  },
  {
   "cell_type": "code",
   "execution_count": null,
   "id": "a70bad80",
   "metadata": {},
   "outputs": [],
   "source": []
  }
 ],
 "metadata": {
  "kernelspec": {
   "display_name": "Python 3",
   "language": "python",
   "name": "python3"
  },
  "language_info": {
   "codemirror_mode": {
    "name": "ipython",
    "version": 3
   },
   "file_extension": ".py",
   "mimetype": "text/x-python",
   "name": "python",
   "nbconvert_exporter": "python",
   "pygments_lexer": "ipython3",
   "version": "3.8.8"
  }
 },
 "nbformat": 4,
 "nbformat_minor": 5
}

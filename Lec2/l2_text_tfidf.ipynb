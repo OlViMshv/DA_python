{
 "cells": [
  {
   "cell_type": "code",
   "execution_count": 2,
   "id": "dcd1e5d0",
   "metadata": {},
   "outputs": [
    {
     "name": "stdout",
     "output_type": "stream",
     "text": [
      "Requirement already satisfied: streamlit in c:\\users\\olga_\\appdata\\local\\programs\\python\\python310\\lib\\site-packages (1.13.0)\n",
      "Requirement already satisfied: blinker>=1.0.0 in c:\\users\\olga_\\appdata\\local\\programs\\python\\python310\\lib\\site-packages (from streamlit) (1.5)\n",
      "Requirement already satisfied: toml in c:\\users\\olga_\\appdata\\local\\programs\\python\\python310\\lib\\site-packages (from streamlit) (0.10.2)\n",
      "Requirement already satisfied: watchdog in c:\\users\\olga_\\appdata\\local\\programs\\python\\python310\\lib\\site-packages (from streamlit) (2.1.9)\n",
      "Requirement already satisfied: pympler>=0.9 in c:\\users\\olga_\\appdata\\local\\programs\\python\\python310\\lib\\site-packages (from streamlit) (1.0.1)\n",
      "Requirement already satisfied: gitpython!=3.1.19 in c:\\users\\olga_\\appdata\\local\\programs\\python\\python310\\lib\\site-packages (from streamlit) (3.1.27)\n",
      "Requirement already satisfied: pydeck>=0.1.dev5 in c:\\users\\olga_\\appdata\\local\\programs\\python\\python310\\lib\\site-packages (from streamlit) (0.8.0b3)\n",
      "Requirement already satisfied: click>=7.0 in c:\\users\\olga_\\appdata\\local\\programs\\python\\python310\\lib\\site-packages (from streamlit) (8.1.3)\n",
      "Requirement already satisfied: requests>=2.4 in c:\\users\\olga_\\appdata\\local\\programs\\python\\python310\\lib\\site-packages (from streamlit) (2.28.1)\n",
      "Requirement already satisfied: cachetools>=4.0 in c:\\users\\olga_\\appdata\\local\\programs\\python\\python310\\lib\\site-packages (from streamlit) (5.2.0)\n",
      "Requirement already satisfied: numpy in c:\\users\\olga_\\appdata\\local\\programs\\python\\python310\\lib\\site-packages (from streamlit) (1.23.3)\n",
      "Requirement already satisfied: pandas>=0.21.0 in c:\\users\\olga_\\appdata\\local\\programs\\python\\python310\\lib\\site-packages (from streamlit) (1.5.0)\n",
      "Requirement already satisfied: importlib-metadata>=1.4 in c:\\users\\olga_\\appdata\\local\\programs\\python\\python310\\lib\\site-packages (from streamlit) (4.12.0)\n",
      "Requirement already satisfied: tornado>=5.0 in c:\\users\\olga_\\appdata\\local\\programs\\python\\python310\\lib\\site-packages (from streamlit) (6.2)\n",
      "Requirement already satisfied: pillow>=6.2.0 in c:\\users\\olga_\\appdata\\local\\programs\\python\\python310\\lib\\site-packages (from streamlit) (9.2.0)\n",
      "Requirement already satisfied: protobuf!=3.20.2,<4,>=3.12 in c:\\users\\olga_\\appdata\\local\\programs\\python\\python310\\lib\\site-packages (from streamlit) (3.20.1)\n",
      "Requirement already satisfied: typing-extensions>=3.10.0.0 in c:\\users\\olga_\\appdata\\local\\programs\\python\\python310\\lib\\site-packages (from streamlit) (4.3.0)\n",
      "Requirement already satisfied: altair>=3.2.0 in c:\\users\\olga_\\appdata\\local\\programs\\python\\python310\\lib\\site-packages (from streamlit) (4.2.0)\n",
      "Requirement already satisfied: validators>=0.2 in c:\\users\\olga_\\appdata\\local\\programs\\python\\python310\\lib\\site-packages (from streamlit) (0.20.0)\n",
      "Requirement already satisfied: packaging>=14.1 in c:\\users\\olga_\\appdata\\local\\programs\\python\\python310\\lib\\site-packages (from streamlit) (21.3)\n",
      "Requirement already satisfied: tzlocal>=1.1 in c:\\users\\olga_\\appdata\\local\\programs\\python\\python310\\lib\\site-packages (from streamlit) (4.2)\n",
      "Requirement already satisfied: python-dateutil in c:\\users\\olga_\\appdata\\local\\programs\\python\\python310\\lib\\site-packages (from streamlit) (2.8.2)\n",
      "Requirement already satisfied: semver in c:\\users\\olga_\\appdata\\local\\programs\\python\\python310\\lib\\site-packages (from streamlit) (2.13.0)\n",
      "Requirement already satisfied: pyarrow>=4.0 in c:\\users\\olga_\\appdata\\local\\programs\\python\\python310\\lib\\site-packages (from streamlit) (9.0.0)\n",
      "Requirement already satisfied: rich>=10.11.0 in c:\\users\\olga_\\appdata\\local\\programs\\python\\python310\\lib\\site-packages (from streamlit) (12.5.1)\n",
      "Requirement already satisfied: entrypoints in c:\\users\\olga_\\appdata\\local\\programs\\python\\python310\\lib\\site-packages (from altair>=3.2.0->streamlit) (0.4)\n",
      "Requirement already satisfied: jinja2 in c:\\users\\olga_\\appdata\\local\\programs\\python\\python310\\lib\\site-packages (from altair>=3.2.0->streamlit) (3.1.2)\n",
      "Requirement already satisfied: jsonschema>=3.0 in c:\\users\\olga_\\appdata\\local\\programs\\python\\python310\\lib\\site-packages (from altair>=3.2.0->streamlit) (4.16.0)\n",
      "Requirement already satisfied: toolz in c:\\users\\olga_\\appdata\\local\\programs\\python\\python310\\lib\\site-packages (from altair>=3.2.0->streamlit) (0.12.0)\n",
      "Requirement already satisfied: colorama in c:\\users\\olga_\\appdata\\local\\programs\\python\\python310\\lib\\site-packages (from click>=7.0->streamlit) (0.4.5)\n",
      "Requirement already satisfied: gitdb<5,>=4.0.1 in c:\\users\\olga_\\appdata\\local\\programs\\python\\python310\\lib\\site-packages (from gitpython!=3.1.19->streamlit) (4.0.9)\n",
      "Requirement already satisfied: zipp>=0.5 in c:\\users\\olga_\\appdata\\local\\programs\\python\\python310\\lib\\site-packages (from importlib-metadata>=1.4->streamlit) (3.8.1)\n",
      "Requirement already satisfied: pyparsing!=3.0.5,>=2.0.2 in c:\\users\\olga_\\appdata\\local\\programs\\python\\python310\\lib\\site-packages (from packaging>=14.1->streamlit) (3.0.9)\n",
      "Requirement already satisfied: pytz>=2020.1 in c:\\users\\olga_\\appdata\\local\\programs\\python\\python310\\lib\\site-packages (from pandas>=0.21.0->streamlit) (2022.2.1)\n",
      "Requirement already satisfied: six>=1.5 in c:\\users\\olga_\\appdata\\local\\programs\\python\\python310\\lib\\site-packages (from python-dateutil->streamlit) (1.16.0)\n",
      "Requirement already satisfied: urllib3<1.27,>=1.21.1 in c:\\users\\olga_\\appdata\\local\\programs\\python\\python310\\lib\\site-packages (from requests>=2.4->streamlit) (1.26.12)\n",
      "Requirement already satisfied: idna<4,>=2.5 in c:\\users\\olga_\\appdata\\local\\programs\\python\\python310\\lib\\site-packages (from requests>=2.4->streamlit) (3.4)\n",
      "Requirement already satisfied: charset-normalizer<3,>=2 in c:\\users\\olga_\\appdata\\local\\programs\\python\\python310\\lib\\site-packages (from requests>=2.4->streamlit) (2.1.1)\n",
      "Requirement already satisfied: certifi>=2017.4.17 in c:\\users\\olga_\\appdata\\local\\programs\\python\\python310\\lib\\site-packages (from requests>=2.4->streamlit) (2022.9.24)\n",
      "Requirement already satisfied: pygments<3.0.0,>=2.6.0 in c:\\users\\olga_\\appdata\\local\\programs\\python\\python310\\lib\\site-packages (from rich>=10.11.0->streamlit) (2.13.0)\n",
      "Requirement already satisfied: commonmark<0.10.0,>=0.9.0 in c:\\users\\olga_\\appdata\\local\\programs\\python\\python310\\lib\\site-packages (from rich>=10.11.0->streamlit) (0.9.1)\n",
      "Requirement already satisfied: pytz-deprecation-shim in c:\\users\\olga_\\appdata\\local\\programs\\python\\python310\\lib\\site-packages (from tzlocal>=1.1->streamlit) (0.1.0.post0)\n",
      "Requirement already satisfied: tzdata in c:\\users\\olga_\\appdata\\local\\programs\\python\\python310\\lib\\site-packages (from tzlocal>=1.1->streamlit) (2022.4)\n",
      "Requirement already satisfied: decorator>=3.4.0 in c:\\users\\olga_\\appdata\\local\\programs\\python\\python310\\lib\\site-packages (from validators>=0.2->streamlit) (5.1.1)\n",
      "Requirement already satisfied: smmap<6,>=3.0.1 in c:\\users\\olga_\\appdata\\local\\programs\\python\\python310\\lib\\site-packages (from gitdb<5,>=4.0.1->gitpython!=3.1.19->streamlit) (5.0.0)\n",
      "Requirement already satisfied: MarkupSafe>=2.0 in c:\\users\\olga_\\appdata\\local\\programs\\python\\python310\\lib\\site-packages (from jinja2->altair>=3.2.0->streamlit) (2.1.1)\n",
      "Requirement already satisfied: attrs>=17.4.0 in c:\\users\\olga_\\appdata\\local\\programs\\python\\python310\\lib\\site-packages (from jsonschema>=3.0->altair>=3.2.0->streamlit) (22.1.0)\n",
      "Requirement already satisfied: pyrsistent!=0.17.0,!=0.17.1,!=0.17.2,>=0.14.0 in c:\\users\\olga_\\appdata\\local\\programs\\python\\python310\\lib\\site-packages (from jsonschema>=3.0->altair>=3.2.0->streamlit) (0.18.1)\n"
     ]
    }
   ],
   "source": [
    "!pip3 install streamlit"
   ]
  },
  {
   "cell_type": "code",
   "execution_count": 1,
   "id": "cdd18a59",
   "metadata": {},
   "outputs": [],
   "source": [
    "import pandas as pd\n",
    "import re\n",
    "import pymorphy2"
   ]
  },
  {
   "cell_type": "code",
   "execution_count": 15,
   "id": "83f94baf",
   "metadata": {},
   "outputs": [],
   "source": [
    "from sklearn.model_selection import train_test_split\n",
    "from sklearn.metrics import f1_score"
   ]
  },
  {
   "cell_type": "code",
   "execution_count": null,
   "id": "7188b0a5",
   "metadata": {},
   "outputs": [],
   "source": []
  },
  {
   "cell_type": "code",
   "execution_count": 2,
   "id": "02a64fc1",
   "metadata": {},
   "outputs": [],
   "source": [
    "df = pd.read_csv('lenta-ru-train.csv')"
   ]
  },
  {
   "cell_type": "code",
   "execution_count": 3,
   "id": "1915de90",
   "metadata": {},
   "outputs": [
    {
     "data": {
      "text/html": [
       "<div>\n",
       "<style scoped>\n",
       "    .dataframe tbody tr th:only-of-type {\n",
       "        vertical-align: middle;\n",
       "    }\n",
       "\n",
       "    .dataframe tbody tr th {\n",
       "        vertical-align: top;\n",
       "    }\n",
       "\n",
       "    .dataframe thead th {\n",
       "        text-align: right;\n",
       "    }\n",
       "</style>\n",
       "<table border=\"1\" class=\"dataframe\">\n",
       "  <thead>\n",
       "    <tr style=\"text-align: right;\">\n",
       "      <th></th>\n",
       "      <th>title</th>\n",
       "      <th>text</th>\n",
       "      <th>topic</th>\n",
       "      <th>topic_label</th>\n",
       "    </tr>\n",
       "  </thead>\n",
       "  <tbody>\n",
       "    <tr>\n",
       "      <th>0</th>\n",
       "      <td>Инфляция в январе 2006 года составит 2,6 процента</td>\n",
       "      <td>Глава Росстата Владимир Соколин заявил, что в ...</td>\n",
       "      <td>Экономика</td>\n",
       "      <td>0</td>\n",
       "    </tr>\n",
       "    <tr>\n",
       "      <th>1</th>\n",
       "      <td>Никита Михалков учредил День российского кино</td>\n",
       "      <td>У российских кинематографистов  появится новый...</td>\n",
       "      <td>Культура</td>\n",
       "      <td>3</td>\n",
       "    </tr>\n",
       "    <tr>\n",
       "      <th>2</th>\n",
       "      <td>Марко Матерацци вернется в строй к матчу с ЦСКА</td>\n",
       "      <td>Медицинский штаб миланского \"Интера\" обнародов...</td>\n",
       "      <td>Спорт</td>\n",
       "      <td>1</td>\n",
       "    </tr>\n",
       "    <tr>\n",
       "      <th>3</th>\n",
       "      <td>Определены лауреаты премии \"Книга года\"</td>\n",
       "      <td>Премии \"Книга года\" в 13 номинациях вручены на...</td>\n",
       "      <td>Культура</td>\n",
       "      <td>3</td>\n",
       "    </tr>\n",
       "    <tr>\n",
       "      <th>4</th>\n",
       "      <td>Гол Роналду со штрафного спас португальцев от ...</td>\n",
       "      <td>Сборная Португалии сыграла вничью с командой И...</td>\n",
       "      <td>Спорт</td>\n",
       "      <td>1</td>\n",
       "    </tr>\n",
       "  </tbody>\n",
       "</table>\n",
       "</div>"
      ],
      "text/plain": [
       "                                               title  \\\n",
       "0  Инфляция в январе 2006 года составит 2,6 процента   \n",
       "1      Никита Михалков учредил День российского кино   \n",
       "2    Марко Матерацци вернется в строй к матчу с ЦСКА   \n",
       "3            Определены лауреаты премии \"Книга года\"   \n",
       "4  Гол Роналду со штрафного спас португальцев от ...   \n",
       "\n",
       "                                                text      topic  topic_label  \n",
       "0  Глава Росстата Владимир Соколин заявил, что в ...  Экономика            0  \n",
       "1  У российских кинематографистов  появится новый...   Культура            3  \n",
       "2  Медицинский штаб миланского \"Интера\" обнародов...      Спорт            1  \n",
       "3  Премии \"Книга года\" в 13 номинациях вручены на...   Культура            3  \n",
       "4  Сборная Португалии сыграла вничью с командой И...      Спорт            1  "
      ]
     },
     "execution_count": 3,
     "metadata": {},
     "output_type": "execute_result"
    }
   ],
   "source": [
    "df.head()"
   ]
  },
  {
   "cell_type": "code",
   "execution_count": 4,
   "id": "b24f1f42",
   "metadata": {},
   "outputs": [],
   "source": [
    "df['text'] = df['text'].str.replace('/','')"
   ]
  },
  {
   "cell_type": "code",
   "execution_count": 5,
   "id": "ef2d9102",
   "metadata": {},
   "outputs": [],
   "source": [
    "# функция удаления пунктуации и цифр\n",
    "def remove_trash(list): \n",
    "    pattern = '[^А-Яа-я0-9]+'\n",
    "    try:\n",
    "      list = [re.sub(pattern, ' ', i) for i in list] \n",
    "      print (list)\n",
    "    except Exception as e:\n",
    "      print(e)\n",
    "    return list"
   ]
  },
  {
   "cell_type": "code",
   "execution_count": 6,
   "id": "4628dabc",
   "metadata": {},
   "outputs": [
    {
     "name": "stdout",
     "output_type": "stream",
     "text": [
      "expected string or bytes-like object\n"
     ]
    }
   ],
   "source": [
    "df['text_clean'] = remove_trash(df['text'])"
   ]
  },
  {
   "cell_type": "code",
   "execution_count": 7,
   "id": "00056975",
   "metadata": {},
   "outputs": [],
   "source": [
    "df = df[~df.text_clean.isna()].copy()"
   ]
  },
  {
   "cell_type": "code",
   "execution_count": null,
   "id": "148fa9ad",
   "metadata": {},
   "outputs": [],
   "source": [
    "df.shape"
   ]
  },
  {
   "cell_type": "code",
   "execution_count": 8,
   "id": "6c02bcec",
   "metadata": {},
   "outputs": [],
   "source": [
    "from nltk.corpus import stopwords\n",
    "from sklearn.feature_extraction.text import TfidfVectorizer\n",
    "import nltk"
   ]
  },
  {
   "cell_type": "code",
   "execution_count": 9,
   "id": "dd22fec2",
   "metadata": {},
   "outputs": [],
   "source": [
    "stop_russian = stopwords.words('russian')"
   ]
  },
  {
   "cell_type": "code",
   "execution_count": 10,
   "id": "682513c5",
   "metadata": {},
   "outputs": [
    {
     "data": {
      "text/plain": [
       "151"
      ]
     },
     "execution_count": 10,
     "metadata": {},
     "output_type": "execute_result"
    }
   ],
   "source": [
    "len(stop_russian)"
   ]
  },
  {
   "cell_type": "code",
   "execution_count": 11,
   "id": "0e5d300e",
   "metadata": {},
   "outputs": [],
   "source": [
    "text_transformer = TfidfVectorizer(stop_words=stop_russian, ngram_range=(1,1), lowercase=True, max_features=15000 )"
   ]
  },
  {
   "cell_type": "code",
   "execution_count": 12,
   "id": "cc7e4ff8",
   "metadata": {},
   "outputs": [
    {
     "data": {
      "text/html": [
       "<div>\n",
       "<style scoped>\n",
       "    .dataframe tbody tr th:only-of-type {\n",
       "        vertical-align: middle;\n",
       "    }\n",
       "\n",
       "    .dataframe tbody tr th {\n",
       "        vertical-align: top;\n",
       "    }\n",
       "\n",
       "    .dataframe thead th {\n",
       "        text-align: right;\n",
       "    }\n",
       "</style>\n",
       "<table border=\"1\" class=\"dataframe\">\n",
       "  <thead>\n",
       "    <tr style=\"text-align: right;\">\n",
       "      <th></th>\n",
       "      <th>title</th>\n",
       "      <th>text</th>\n",
       "      <th>topic</th>\n",
       "      <th>topic_label</th>\n",
       "      <th>text_clean</th>\n",
       "    </tr>\n",
       "  </thead>\n",
       "  <tbody>\n",
       "    <tr>\n",
       "      <th>206632</th>\n",
       "      <td>Бывшую вице-президента Tiffany обвинили в милл...</td>\n",
       "      <td>Бывшей вице-президенту ювелирной компании Tiff...</td>\n",
       "      <td>Экономика</td>\n",
       "      <td>0</td>\n",
       "      <td>Бывшей вице-президенту ювелирной компании Tiff...</td>\n",
       "    </tr>\n",
       "    <tr>\n",
       "      <th>206633</th>\n",
       "      <td>Минфин предложил увеличить штрафы за незаконны...</td>\n",
       "      <td>Минфин предлагает увеличить размер штрафа для ...</td>\n",
       "      <td>Экономика</td>\n",
       "      <td>0</td>\n",
       "      <td>Минфин предлагает увеличить размер штрафа для ...</td>\n",
       "    </tr>\n",
       "    <tr>\n",
       "      <th>206634</th>\n",
       "      <td>Потребительская уверенность россиян вернулась ...</td>\n",
       "      <td>Индекс потребительской уверенности россиян в п...</td>\n",
       "      <td>Экономика</td>\n",
       "      <td>0</td>\n",
       "      <td>Индекс потребительской уверенности россиян в п...</td>\n",
       "    </tr>\n",
       "    <tr>\n",
       "      <th>206635</th>\n",
       "      <td>Тарпищеву дали американскую визу</td>\n",
       "      <td>Капитан женской сборной России по теннису Шами...</td>\n",
       "      <td>Спорт</td>\n",
       "      <td>1</td>\n",
       "      <td>Капитан женской сборной России по теннису Шами...</td>\n",
       "    </tr>\n",
       "    <tr>\n",
       "      <th>206636</th>\n",
       "      <td>УЕФА пригрозил России исключением из числа уча...</td>\n",
       "      <td>Союз европейских футбольных ассоциаций (УЕФА) ...</td>\n",
       "      <td>Спорт</td>\n",
       "      <td>1</td>\n",
       "      <td>Союз европейских футбольных ассоциаций (УЕФА) ...</td>\n",
       "    </tr>\n",
       "  </tbody>\n",
       "</table>\n",
       "</div>"
      ],
      "text/plain": [
       "                                                    title  \\\n",
       "206632  Бывшую вице-президента Tiffany обвинили в милл...   \n",
       "206633  Минфин предложил увеличить штрафы за незаконны...   \n",
       "206634  Потребительская уверенность россиян вернулась ...   \n",
       "206635                   Тарпищеву дали американскую визу   \n",
       "206636  УЕФА пригрозил России исключением из числа уча...   \n",
       "\n",
       "                                                     text      topic  \\\n",
       "206632  Бывшей вице-президенту ювелирной компании Tiff...  Экономика   \n",
       "206633  Минфин предлагает увеличить размер штрафа для ...  Экономика   \n",
       "206634  Индекс потребительской уверенности россиян в п...  Экономика   \n",
       "206635  Капитан женской сборной России по теннису Шами...      Спорт   \n",
       "206636  Союз европейских футбольных ассоциаций (УЕФА) ...      Спорт   \n",
       "\n",
       "        topic_label                                         text_clean  \n",
       "206632            0  Бывшей вице-президенту ювелирной компании Tiff...  \n",
       "206633            0  Минфин предлагает увеличить размер штрафа для ...  \n",
       "206634            0  Индекс потребительской уверенности россиян в п...  \n",
       "206635            1  Капитан женской сборной России по теннису Шами...  \n",
       "206636            1  Союз европейских футбольных ассоциаций (УЕФА) ...  "
      ]
     },
     "execution_count": 12,
     "metadata": {},
     "output_type": "execute_result"
    }
   ],
   "source": [
    "df.tail()"
   ]
  },
  {
   "cell_type": "code",
   "execution_count": 13,
   "id": "ae95ff5c",
   "metadata": {},
   "outputs": [],
   "source": [
    "text = text_transformer.fit_transform(df['text_clean'])"
   ]
  },
  {
   "cell_type": "code",
   "execution_count": 17,
   "id": "97dd4f42",
   "metadata": {},
   "outputs": [
    {
     "data": {
      "text/plain": [
       "Экономика          63571\n",
       "Спорт              51679\n",
       "Культура           43071\n",
       "Наука и техника    42384\n",
       "Бизнес              5931\n",
       "Name: topic, dtype: int64"
      ]
     },
     "execution_count": 17,
     "metadata": {},
     "output_type": "execute_result"
    }
   ],
   "source": [
    "df.topic.value_counts()"
   ]
  },
  {
   "cell_type": "code",
   "execution_count": 18,
   "id": "c3f986ce",
   "metadata": {},
   "outputs": [],
   "source": [
    "X_train, X_test, y_train, y_test = train_test_split(text, df['topic_label'], test_size=0.3, random_state=1912)"
   ]
  },
  {
   "cell_type": "code",
   "execution_count": 19,
   "id": "628bcbe3",
   "metadata": {},
   "outputs": [
    {
     "name": "stdout",
     "output_type": "stream",
     "text": [
      "(144645, 15000) (61991, 15000)\n"
     ]
    }
   ],
   "source": [
    "print(X_train.shape,X_test.shape)"
   ]
  },
  {
   "cell_type": "code",
   "execution_count": 20,
   "id": "94801e33",
   "metadata": {},
   "outputs": [],
   "source": [
    "from sklearn import tree"
   ]
  },
  {
   "cell_type": "code",
   "execution_count": 21,
   "id": "c2dd13d2",
   "metadata": {},
   "outputs": [],
   "source": [
    "clf = tree.DecisionTreeClassifier()"
   ]
  },
  {
   "cell_type": "code",
   "execution_count": 22,
   "id": "7fdb657a",
   "metadata": {},
   "outputs": [
    {
     "data": {
      "text/plain": [
       "DecisionTreeClassifier()"
      ]
     },
     "execution_count": 22,
     "metadata": {},
     "output_type": "execute_result"
    }
   ],
   "source": [
    "clf.fit(X_train,y_train)"
   ]
  },
  {
   "cell_type": "code",
   "execution_count": 24,
   "id": "ca21e8c3",
   "metadata": {},
   "outputs": [],
   "source": [
    "pred = clf.predict(X_test)"
   ]
  },
  {
   "cell_type": "code",
   "execution_count": 26,
   "id": "388bf5d4",
   "metadata": {},
   "outputs": [],
   "source": [
    "import sklearn"
   ]
  },
  {
   "cell_type": "code",
   "execution_count": 27,
   "id": "8bc53e05",
   "metadata": {},
   "outputs": [
    {
     "name": "stdout",
     "output_type": "stream",
     "text": [
      "Качество модели по метрике F1 0.7899551218632959\n"
     ]
    }
   ],
   "source": [
    "print('Качество модели по метрике F1', sklearn.metrics.f1_score(y_test,pred,average='macro'))"
   ]
  },
  {
   "cell_type": "code",
   "execution_count": 28,
   "id": "e0239fdb",
   "metadata": {},
   "outputs": [],
   "source": [
    "morph = pymorphy2.MorphAnalyzer()"
   ]
  },
  {
   "cell_type": "code",
   "execution_count": 30,
   "id": "b37fe963",
   "metadata": {},
   "outputs": [
    {
     "name": "stdout",
     "output_type": "stream",
     "text": [
      "CPU times: user 9 µs, sys: 1 µs, total: 10 µs\n",
      "Wall time: 22.2 µs\n"
     ]
    }
   ],
   "source": [
    "%%time #првоерить время выполнения функции\n",
    "# функция лемматизации - приводит в 1 форму\n",
    "def lemmatize(row):\n",
    "    t = []\n",
    "    text = row['text_clean']\n",
    "    for word in text.split():\n",
    "        if len(word)<=3:   #удаляет слова, которые меньше == 3 символа\n",
    "            continue\n",
    "        p = morph.parse(word)[0]\n",
    "        t.append(p.normal_form)\n",
    "    return \" \".join(t)"
   ]
  },
  {
   "cell_type": "code",
   "execution_count": 31,
   "id": "e78ce990",
   "metadata": {},
   "outputs": [
    {
     "name": "stdout",
     "output_type": "stream",
     "text": [
      "CPU times: user 1h 12min 9s, sys: 40.8 s, total: 1h 12min 49s\n",
      "Wall time: 1h 13min 48s\n"
     ]
    }
   ],
   "source": [
    "%%time\n",
    "df['text_clean_normal'] = df.apply(lemmatize,axis=1)"
   ]
  },
  {
   "cell_type": "code",
   "execution_count": 33,
   "id": "54f90865",
   "metadata": {},
   "outputs": [
    {
     "data": {
      "text/html": [
       "<div>\n",
       "<style scoped>\n",
       "    .dataframe tbody tr th:only-of-type {\n",
       "        vertical-align: middle;\n",
       "    }\n",
       "\n",
       "    .dataframe tbody tr th {\n",
       "        vertical-align: top;\n",
       "    }\n",
       "\n",
       "    .dataframe thead th {\n",
       "        text-align: right;\n",
       "    }\n",
       "</style>\n",
       "<table border=\"1\" class=\"dataframe\">\n",
       "  <thead>\n",
       "    <tr style=\"text-align: right;\">\n",
       "      <th></th>\n",
       "      <th>text_clean</th>\n",
       "      <th>text_clean_normal</th>\n",
       "    </tr>\n",
       "  </thead>\n",
       "  <tbody>\n",
       "    <tr>\n",
       "      <th>0</th>\n",
       "      <td>Глава Росстата Владимир Соколин заявил, что в ...</td>\n",
       "      <td>глава росстат владимир соколиный заявил, январ...</td>\n",
       "    </tr>\n",
       "    <tr>\n",
       "      <th>1</th>\n",
       "      <td>У российских кинематографистов  появится новый...</td>\n",
       "      <td>российский кинематографист появиться новый про...</td>\n",
       "    </tr>\n",
       "    <tr>\n",
       "      <th>2</th>\n",
       "      <td>Медицинский штаб миланского \"Интера\" обнародов...</td>\n",
       "      <td>медицинский штаб миланский \"интера\" обнародова...</td>\n",
       "    </tr>\n",
       "    <tr>\n",
       "      <th>3</th>\n",
       "      <td>Премии \"Книга года\" в 13 номинациях вручены на...</td>\n",
       "      <td>премия \"книга года\" номинация вручить московск...</td>\n",
       "    </tr>\n",
       "    <tr>\n",
       "      <th>4</th>\n",
       "      <td>Сборная Португалии сыграла вничью с командой И...</td>\n",
       "      <td>сборная португалия сыграть вничью команда испа...</td>\n",
       "    </tr>\n",
       "    <tr>\n",
       "      <th>...</th>\n",
       "      <td>...</td>\n",
       "      <td>...</td>\n",
       "    </tr>\n",
       "    <tr>\n",
       "      <th>206632</th>\n",
       "      <td>Бывшей вице-президенту ювелирной компании Tiff...</td>\n",
       "      <td>бывший вице-президент ювелирный компания tiffa...</td>\n",
       "    </tr>\n",
       "    <tr>\n",
       "      <th>206633</th>\n",
       "      <td>Минфин предлагает увеличить размер штрафа для ...</td>\n",
       "      <td>минфин предлагать увеличить размер штраф должн...</td>\n",
       "    </tr>\n",
       "    <tr>\n",
       "      <th>206634</th>\n",
       "      <td>Индекс потребительской уверенности россиян в п...</td>\n",
       "      <td>индекс потребительский уверенность россиянин п...</td>\n",
       "    </tr>\n",
       "    <tr>\n",
       "      <th>206635</th>\n",
       "      <td>Капитан женской сборной России по теннису Шами...</td>\n",
       "      <td>капитан женский сборная россия теннис шамиль т...</td>\n",
       "    </tr>\n",
       "    <tr>\n",
       "      <th>206636</th>\n",
       "      <td>Союз европейских футбольных ассоциаций (УЕФА) ...</td>\n",
       "      <td>союз европейский футбольный ассоциация (уефа) ...</td>\n",
       "    </tr>\n",
       "  </tbody>\n",
       "</table>\n",
       "<p>206636 rows × 2 columns</p>\n",
       "</div>"
      ],
      "text/plain": [
       "                                               text_clean  \\\n",
       "0       Глава Росстата Владимир Соколин заявил, что в ...   \n",
       "1       У российских кинематографистов  появится новый...   \n",
       "2       Медицинский штаб миланского \"Интера\" обнародов...   \n",
       "3       Премии \"Книга года\" в 13 номинациях вручены на...   \n",
       "4       Сборная Португалии сыграла вничью с командой И...   \n",
       "...                                                   ...   \n",
       "206632  Бывшей вице-президенту ювелирной компании Tiff...   \n",
       "206633  Минфин предлагает увеличить размер штрафа для ...   \n",
       "206634  Индекс потребительской уверенности россиян в п...   \n",
       "206635  Капитан женской сборной России по теннису Шами...   \n",
       "206636  Союз европейских футбольных ассоциаций (УЕФА) ...   \n",
       "\n",
       "                                        text_clean_normal  \n",
       "0       глава росстат владимир соколиный заявил, январ...  \n",
       "1       российский кинематографист появиться новый про...  \n",
       "2       медицинский штаб миланский \"интера\" обнародова...  \n",
       "3       премия \"книга года\" номинация вручить московск...  \n",
       "4       сборная португалия сыграть вничью команда испа...  \n",
       "...                                                   ...  \n",
       "206632  бывший вице-президент ювелирный компания tiffa...  \n",
       "206633  минфин предлагать увеличить размер штраф должн...  \n",
       "206634  индекс потребительский уверенность россиянин п...  \n",
       "206635  капитан женский сборная россия теннис шамиль т...  \n",
       "206636  союз европейский футбольный ассоциация (уефа) ...  \n",
       "\n",
       "[206636 rows x 2 columns]"
      ]
     },
     "execution_count": 33,
     "metadata": {},
     "output_type": "execute_result"
    }
   ],
   "source": [
    "df[['text_clean','text_clean_normal']]"
   ]
  },
  {
   "cell_type": "markdown",
   "id": "968c2c35",
   "metadata": {},
   "source": [
    "### качество модели после лемматизации"
   ]
  },
  {
   "cell_type": "code",
   "execution_count": 34,
   "id": "69c0d31c",
   "metadata": {},
   "outputs": [],
   "source": [
    "text_norm = text_transformer.fit_transform(df['text_clean_normal'])\n",
    "X_train, X_test, y_train, y_test = train_test_split(text_norm, df['topic_label'], test_size=0.3, random_state=1912)"
   ]
  },
  {
   "cell_type": "code",
   "execution_count": 35,
   "id": "855b698f",
   "metadata": {},
   "outputs": [
    {
     "name": "stdout",
     "output_type": "stream",
     "text": [
      "Качество модели по метрике F1 после нлемматизации 0.8122978184133182\n"
     ]
    }
   ],
   "source": [
    "clf_norm = tree.DecisionTreeClassifier()\n",
    "clf_norm.fit(X_train,y_train)\n",
    "pred_norm = clf_norm.predict(X_test)\n",
    "print('Качество модели по метрике F1 после лемматизации', sklearn.metrics.f1_score(y_test,pred_norm,average='macro'))"
   ]
  }
 ],
 "metadata": {
  "kernelspec": {
   "display_name": "Python 3 (ipykernel)",
   "language": "python",
   "name": "python3"
  },
  "language_info": {
   "codemirror_mode": {
    "name": "ipython",
    "version": 3
   },
   "file_extension": ".py",
   "mimetype": "text/x-python",
   "name": "python",
   "nbconvert_exporter": "python",
   "pygments_lexer": "ipython3",
   "version": "3.10.7"
  }
 },
 "nbformat": 4,
 "nbformat_minor": 5
}

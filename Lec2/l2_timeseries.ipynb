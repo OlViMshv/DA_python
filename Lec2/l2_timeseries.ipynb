{
 "cells": [
  {
   "cell_type": "code",
   "execution_count": null,
   "metadata": {
    "colab": {
     "base_uri": "https://localhost:8080/"
    },
    "id": "oncjoIQPsOTt",
    "outputId": "74adacd9-68be-43a8-a04b-736a4357a1ba"
   },
   "outputs": [],
   "source": [
    "from google.colab import drive\n",
    "drive.mount('/content/drive')\n",
    "\n"
   ]
  },
  {
   "cell_type": "code",
   "execution_count": null,
   "metadata": {
    "colab": {
     "base_uri": "https://localhost:8080/"
    },
    "id": "SGxdgAzzsS72",
    "outputId": "098e16c9-1b55-43ba-f8af-dcf96e6e4bad"
   },
   "outputs": [],
   "source": [
    "cd drive/My\\ Drive\n"
   ]
  },
  {
   "cell_type": "code",
   "execution_count": null,
   "metadata": {
    "colab": {
     "base_uri": "https://localhost:8080/"
    },
    "id": "04kLm1HOsTGt",
    "outputId": "69156063-df18-4c8e-faf2-f688d23b223b"
   },
   "outputs": [],
   "source": [
    "cd Colab\\ Notebooks"
   ]
  },
  {
   "cell_type": "code",
   "execution_count": 8,
   "metadata": {
    "id": "Og74jUQWsjG7"
   },
   "outputs": [],
   "source": [
    "import pandas as pd"
   ]
  },
  {
   "cell_type": "code",
   "execution_count": 9,
   "metadata": {
    "id": "xepIxdkNsqcs"
   },
   "outputs": [
    {
     "ename": "FileNotFoundError",
     "evalue": "[Errno 2] No such file or directory: 'data/SBER_190101_210615.txt'",
     "output_type": "error",
     "traceback": [
      "\u001b[1;31m---------------------------------------------------------------------------\u001b[0m",
      "\u001b[1;31mFileNotFoundError\u001b[0m                         Traceback (most recent call last)",
      "\u001b[1;32m<ipython-input-9-4e347df982af>\u001b[0m in \u001b[0;36m<module>\u001b[1;34m\u001b[0m\n\u001b[1;32m----> 1\u001b[1;33m \u001b[0mdf\u001b[0m \u001b[1;33m=\u001b[0m \u001b[0mpd\u001b[0m\u001b[1;33m.\u001b[0m\u001b[0mread_csv\u001b[0m\u001b[1;33m(\u001b[0m\u001b[1;34m'data/SBER_190101_210615.txt'\u001b[0m\u001b[1;33m,\u001b[0m\u001b[0mparse_dates\u001b[0m\u001b[1;33m=\u001b[0m\u001b[1;33m[\u001b[0m\u001b[1;36m2\u001b[0m\u001b[1;33m]\u001b[0m\u001b[1;33m)\u001b[0m\u001b[1;33m\u001b[0m\u001b[1;33m\u001b[0m\u001b[0m\n\u001b[0m",
      "\u001b[1;32m~\\anaconda3\\lib\\site-packages\\pandas\\io\\parsers.py\u001b[0m in \u001b[0;36mread_csv\u001b[1;34m(filepath_or_buffer, sep, delimiter, header, names, index_col, usecols, squeeze, prefix, mangle_dupe_cols, dtype, engine, converters, true_values, false_values, skipinitialspace, skiprows, skipfooter, nrows, na_values, keep_default_na, na_filter, verbose, skip_blank_lines, parse_dates, infer_datetime_format, keep_date_col, date_parser, dayfirst, cache_dates, iterator, chunksize, compression, thousands, decimal, lineterminator, quotechar, quoting, doublequote, escapechar, comment, encoding, dialect, error_bad_lines, warn_bad_lines, delim_whitespace, low_memory, memory_map, float_precision, storage_options)\u001b[0m\n\u001b[0;32m    608\u001b[0m     \u001b[0mkwds\u001b[0m\u001b[1;33m.\u001b[0m\u001b[0mupdate\u001b[0m\u001b[1;33m(\u001b[0m\u001b[0mkwds_defaults\u001b[0m\u001b[1;33m)\u001b[0m\u001b[1;33m\u001b[0m\u001b[1;33m\u001b[0m\u001b[0m\n\u001b[0;32m    609\u001b[0m \u001b[1;33m\u001b[0m\u001b[0m\n\u001b[1;32m--> 610\u001b[1;33m     \u001b[1;32mreturn\u001b[0m \u001b[0m_read\u001b[0m\u001b[1;33m(\u001b[0m\u001b[0mfilepath_or_buffer\u001b[0m\u001b[1;33m,\u001b[0m \u001b[0mkwds\u001b[0m\u001b[1;33m)\u001b[0m\u001b[1;33m\u001b[0m\u001b[1;33m\u001b[0m\u001b[0m\n\u001b[0m\u001b[0;32m    611\u001b[0m \u001b[1;33m\u001b[0m\u001b[0m\n\u001b[0;32m    612\u001b[0m \u001b[1;33m\u001b[0m\u001b[0m\n",
      "\u001b[1;32m~\\anaconda3\\lib\\site-packages\\pandas\\io\\parsers.py\u001b[0m in \u001b[0;36m_read\u001b[1;34m(filepath_or_buffer, kwds)\u001b[0m\n\u001b[0;32m    460\u001b[0m \u001b[1;33m\u001b[0m\u001b[0m\n\u001b[0;32m    461\u001b[0m     \u001b[1;31m# Create the parser.\u001b[0m\u001b[1;33m\u001b[0m\u001b[1;33m\u001b[0m\u001b[1;33m\u001b[0m\u001b[0m\n\u001b[1;32m--> 462\u001b[1;33m     \u001b[0mparser\u001b[0m \u001b[1;33m=\u001b[0m \u001b[0mTextFileReader\u001b[0m\u001b[1;33m(\u001b[0m\u001b[0mfilepath_or_buffer\u001b[0m\u001b[1;33m,\u001b[0m \u001b[1;33m**\u001b[0m\u001b[0mkwds\u001b[0m\u001b[1;33m)\u001b[0m\u001b[1;33m\u001b[0m\u001b[1;33m\u001b[0m\u001b[0m\n\u001b[0m\u001b[0;32m    463\u001b[0m \u001b[1;33m\u001b[0m\u001b[0m\n\u001b[0;32m    464\u001b[0m     \u001b[1;32mif\u001b[0m \u001b[0mchunksize\u001b[0m \u001b[1;32mor\u001b[0m \u001b[0miterator\u001b[0m\u001b[1;33m:\u001b[0m\u001b[1;33m\u001b[0m\u001b[1;33m\u001b[0m\u001b[0m\n",
      "\u001b[1;32m~\\anaconda3\\lib\\site-packages\\pandas\\io\\parsers.py\u001b[0m in \u001b[0;36m__init__\u001b[1;34m(self, f, engine, **kwds)\u001b[0m\n\u001b[0;32m    817\u001b[0m             \u001b[0mself\u001b[0m\u001b[1;33m.\u001b[0m\u001b[0moptions\u001b[0m\u001b[1;33m[\u001b[0m\u001b[1;34m\"has_index_names\"\u001b[0m\u001b[1;33m]\u001b[0m \u001b[1;33m=\u001b[0m \u001b[0mkwds\u001b[0m\u001b[1;33m[\u001b[0m\u001b[1;34m\"has_index_names\"\u001b[0m\u001b[1;33m]\u001b[0m\u001b[1;33m\u001b[0m\u001b[1;33m\u001b[0m\u001b[0m\n\u001b[0;32m    818\u001b[0m \u001b[1;33m\u001b[0m\u001b[0m\n\u001b[1;32m--> 819\u001b[1;33m         \u001b[0mself\u001b[0m\u001b[1;33m.\u001b[0m\u001b[0m_engine\u001b[0m \u001b[1;33m=\u001b[0m \u001b[0mself\u001b[0m\u001b[1;33m.\u001b[0m\u001b[0m_make_engine\u001b[0m\u001b[1;33m(\u001b[0m\u001b[0mself\u001b[0m\u001b[1;33m.\u001b[0m\u001b[0mengine\u001b[0m\u001b[1;33m)\u001b[0m\u001b[1;33m\u001b[0m\u001b[1;33m\u001b[0m\u001b[0m\n\u001b[0m\u001b[0;32m    820\u001b[0m \u001b[1;33m\u001b[0m\u001b[0m\n\u001b[0;32m    821\u001b[0m     \u001b[1;32mdef\u001b[0m \u001b[0mclose\u001b[0m\u001b[1;33m(\u001b[0m\u001b[0mself\u001b[0m\u001b[1;33m)\u001b[0m\u001b[1;33m:\u001b[0m\u001b[1;33m\u001b[0m\u001b[1;33m\u001b[0m\u001b[0m\n",
      "\u001b[1;32m~\\anaconda3\\lib\\site-packages\\pandas\\io\\parsers.py\u001b[0m in \u001b[0;36m_make_engine\u001b[1;34m(self, engine)\u001b[0m\n\u001b[0;32m   1048\u001b[0m             )\n\u001b[0;32m   1049\u001b[0m         \u001b[1;31m# error: Too many arguments for \"ParserBase\"\u001b[0m\u001b[1;33m\u001b[0m\u001b[1;33m\u001b[0m\u001b[1;33m\u001b[0m\u001b[0m\n\u001b[1;32m-> 1050\u001b[1;33m         \u001b[1;32mreturn\u001b[0m \u001b[0mmapping\u001b[0m\u001b[1;33m[\u001b[0m\u001b[0mengine\u001b[0m\u001b[1;33m]\u001b[0m\u001b[1;33m(\u001b[0m\u001b[0mself\u001b[0m\u001b[1;33m.\u001b[0m\u001b[0mf\u001b[0m\u001b[1;33m,\u001b[0m \u001b[1;33m**\u001b[0m\u001b[0mself\u001b[0m\u001b[1;33m.\u001b[0m\u001b[0moptions\u001b[0m\u001b[1;33m)\u001b[0m  \u001b[1;31m# type: ignore[call-arg]\u001b[0m\u001b[1;33m\u001b[0m\u001b[1;33m\u001b[0m\u001b[0m\n\u001b[0m\u001b[0;32m   1051\u001b[0m \u001b[1;33m\u001b[0m\u001b[0m\n\u001b[0;32m   1052\u001b[0m     \u001b[1;32mdef\u001b[0m \u001b[0m_failover_to_python\u001b[0m\u001b[1;33m(\u001b[0m\u001b[0mself\u001b[0m\u001b[1;33m)\u001b[0m\u001b[1;33m:\u001b[0m\u001b[1;33m\u001b[0m\u001b[1;33m\u001b[0m\u001b[0m\n",
      "\u001b[1;32m~\\anaconda3\\lib\\site-packages\\pandas\\io\\parsers.py\u001b[0m in \u001b[0;36m__init__\u001b[1;34m(self, src, **kwds)\u001b[0m\n\u001b[0;32m   1865\u001b[0m \u001b[1;33m\u001b[0m\u001b[0m\n\u001b[0;32m   1866\u001b[0m         \u001b[1;31m# open handles\u001b[0m\u001b[1;33m\u001b[0m\u001b[1;33m\u001b[0m\u001b[1;33m\u001b[0m\u001b[0m\n\u001b[1;32m-> 1867\u001b[1;33m         \u001b[0mself\u001b[0m\u001b[1;33m.\u001b[0m\u001b[0m_open_handles\u001b[0m\u001b[1;33m(\u001b[0m\u001b[0msrc\u001b[0m\u001b[1;33m,\u001b[0m \u001b[0mkwds\u001b[0m\u001b[1;33m)\u001b[0m\u001b[1;33m\u001b[0m\u001b[1;33m\u001b[0m\u001b[0m\n\u001b[0m\u001b[0;32m   1868\u001b[0m         \u001b[1;32massert\u001b[0m \u001b[0mself\u001b[0m\u001b[1;33m.\u001b[0m\u001b[0mhandles\u001b[0m \u001b[1;32mis\u001b[0m \u001b[1;32mnot\u001b[0m \u001b[1;32mNone\u001b[0m\u001b[1;33m\u001b[0m\u001b[1;33m\u001b[0m\u001b[0m\n\u001b[0;32m   1869\u001b[0m         \u001b[1;32mfor\u001b[0m \u001b[0mkey\u001b[0m \u001b[1;32min\u001b[0m \u001b[1;33m(\u001b[0m\u001b[1;34m\"storage_options\"\u001b[0m\u001b[1;33m,\u001b[0m \u001b[1;34m\"encoding\"\u001b[0m\u001b[1;33m,\u001b[0m \u001b[1;34m\"memory_map\"\u001b[0m\u001b[1;33m,\u001b[0m \u001b[1;34m\"compression\"\u001b[0m\u001b[1;33m)\u001b[0m\u001b[1;33m:\u001b[0m\u001b[1;33m\u001b[0m\u001b[1;33m\u001b[0m\u001b[0m\n",
      "\u001b[1;32m~\\anaconda3\\lib\\site-packages\\pandas\\io\\parsers.py\u001b[0m in \u001b[0;36m_open_handles\u001b[1;34m(self, src, kwds)\u001b[0m\n\u001b[0;32m   1360\u001b[0m         \u001b[0mLet\u001b[0m \u001b[0mthe\u001b[0m \u001b[0mreaders\u001b[0m \u001b[0mopen\u001b[0m \u001b[0mIOHanldes\u001b[0m \u001b[0mafter\u001b[0m \u001b[0mthey\u001b[0m \u001b[0mare\u001b[0m \u001b[0mdone\u001b[0m \u001b[1;32mwith\u001b[0m \u001b[0mtheir\u001b[0m \u001b[0mpotential\u001b[0m \u001b[0mraises\u001b[0m\u001b[1;33m.\u001b[0m\u001b[1;33m\u001b[0m\u001b[1;33m\u001b[0m\u001b[0m\n\u001b[0;32m   1361\u001b[0m         \"\"\"\n\u001b[1;32m-> 1362\u001b[1;33m         self.handles = get_handle(\n\u001b[0m\u001b[0;32m   1363\u001b[0m             \u001b[0msrc\u001b[0m\u001b[1;33m,\u001b[0m\u001b[1;33m\u001b[0m\u001b[1;33m\u001b[0m\u001b[0m\n\u001b[0;32m   1364\u001b[0m             \u001b[1;34m\"r\"\u001b[0m\u001b[1;33m,\u001b[0m\u001b[1;33m\u001b[0m\u001b[1;33m\u001b[0m\u001b[0m\n",
      "\u001b[1;32m~\\anaconda3\\lib\\site-packages\\pandas\\io\\common.py\u001b[0m in \u001b[0;36mget_handle\u001b[1;34m(path_or_buf, mode, encoding, compression, memory_map, is_text, errors, storage_options)\u001b[0m\n\u001b[0;32m    640\u001b[0m                 \u001b[0merrors\u001b[0m \u001b[1;33m=\u001b[0m \u001b[1;34m\"replace\"\u001b[0m\u001b[1;33m\u001b[0m\u001b[1;33m\u001b[0m\u001b[0m\n\u001b[0;32m    641\u001b[0m             \u001b[1;31m# Encoding\u001b[0m\u001b[1;33m\u001b[0m\u001b[1;33m\u001b[0m\u001b[1;33m\u001b[0m\u001b[0m\n\u001b[1;32m--> 642\u001b[1;33m             handle = open(\n\u001b[0m\u001b[0;32m    643\u001b[0m                 \u001b[0mhandle\u001b[0m\u001b[1;33m,\u001b[0m\u001b[1;33m\u001b[0m\u001b[1;33m\u001b[0m\u001b[0m\n\u001b[0;32m    644\u001b[0m                 \u001b[0mioargs\u001b[0m\u001b[1;33m.\u001b[0m\u001b[0mmode\u001b[0m\u001b[1;33m,\u001b[0m\u001b[1;33m\u001b[0m\u001b[1;33m\u001b[0m\u001b[0m\n",
      "\u001b[1;31mFileNotFoundError\u001b[0m: [Errno 2] No such file or directory: 'data/SBER_190101_210615.txt'"
     ]
    }
   ],
   "source": [
    "df = pd.read_csv('data/SBER_190101_210615.txt',parse_dates=[2])"
   ]
  },
  {
   "cell_type": "code",
   "execution_count": 56,
   "metadata": {
    "colab": {
     "base_uri": "https://localhost:8080/",
     "height": 419
    },
    "id": "NBfEkMiJPm15",
    "outputId": "836d1ab8-c31d-47f3-d489-f04c87481af6"
   },
   "outputs": [
    {
     "data": {
      "text/html": [
       "<div>\n",
       "<style scoped>\n",
       "    .dataframe tbody tr th:only-of-type {\n",
       "        vertical-align: middle;\n",
       "    }\n",
       "\n",
       "    .dataframe tbody tr th {\n",
       "        vertical-align: top;\n",
       "    }\n",
       "\n",
       "    .dataframe thead th {\n",
       "        text-align: right;\n",
       "    }\n",
       "</style>\n",
       "<table border=\"1\" class=\"dataframe\">\n",
       "  <thead>\n",
       "    <tr style=\"text-align: right;\">\n",
       "      <th></th>\n",
       "      <th>&lt;TICKER&gt;</th>\n",
       "      <th>&lt;PER&gt;</th>\n",
       "      <th>&lt;DATE&gt;</th>\n",
       "      <th>&lt;TIME&gt;</th>\n",
       "      <th>&lt;OPEN&gt;</th>\n",
       "      <th>&lt;HIGH&gt;</th>\n",
       "      <th>&lt;LOW&gt;</th>\n",
       "      <th>&lt;CLOSE&gt;</th>\n",
       "      <th>&lt;VOL&gt;</th>\n",
       "    </tr>\n",
       "  </thead>\n",
       "  <tbody>\n",
       "    <tr>\n",
       "      <th>0</th>\n",
       "      <td>SBER</td>\n",
       "      <td>D</td>\n",
       "      <td>2019-01-03</td>\n",
       "      <td>0</td>\n",
       "      <td>186.37</td>\n",
       "      <td>191.50</td>\n",
       "      <td>186.00</td>\n",
       "      <td>186.99</td>\n",
       "      <td>40105780</td>\n",
       "    </tr>\n",
       "    <tr>\n",
       "      <th>1</th>\n",
       "      <td>SBER</td>\n",
       "      <td>D</td>\n",
       "      <td>2019-01-04</td>\n",
       "      <td>0</td>\n",
       "      <td>187.99</td>\n",
       "      <td>190.99</td>\n",
       "      <td>187.77</td>\n",
       "      <td>190.99</td>\n",
       "      <td>32537090</td>\n",
       "    </tr>\n",
       "    <tr>\n",
       "      <th>2</th>\n",
       "      <td>SBER</td>\n",
       "      <td>D</td>\n",
       "      <td>2019-01-08</td>\n",
       "      <td>0</td>\n",
       "      <td>191.66</td>\n",
       "      <td>193.18</td>\n",
       "      <td>190.37</td>\n",
       "      <td>191.24</td>\n",
       "      <td>38581950</td>\n",
       "    </tr>\n",
       "    <tr>\n",
       "      <th>3</th>\n",
       "      <td>SBER</td>\n",
       "      <td>D</td>\n",
       "      <td>2019-01-09</td>\n",
       "      <td>0</td>\n",
       "      <td>192.71</td>\n",
       "      <td>197.00</td>\n",
       "      <td>192.10</td>\n",
       "      <td>197.00</td>\n",
       "      <td>70633230</td>\n",
       "    </tr>\n",
       "    <tr>\n",
       "      <th>4</th>\n",
       "      <td>SBER</td>\n",
       "      <td>D</td>\n",
       "      <td>2019-01-10</td>\n",
       "      <td>0</td>\n",
       "      <td>196.30</td>\n",
       "      <td>197.64</td>\n",
       "      <td>195.03</td>\n",
       "      <td>196.75</td>\n",
       "      <td>56211650</td>\n",
       "    </tr>\n",
       "    <tr>\n",
       "      <th>...</th>\n",
       "      <td>...</td>\n",
       "      <td>...</td>\n",
       "      <td>...</td>\n",
       "      <td>...</td>\n",
       "      <td>...</td>\n",
       "      <td>...</td>\n",
       "      <td>...</td>\n",
       "      <td>...</td>\n",
       "      <td>...</td>\n",
       "    </tr>\n",
       "    <tr>\n",
       "      <th>611</th>\n",
       "      <td>SBER</td>\n",
       "      <td>D</td>\n",
       "      <td>2021-06-09</td>\n",
       "      <td>0</td>\n",
       "      <td>315.01</td>\n",
       "      <td>315.90</td>\n",
       "      <td>312.90</td>\n",
       "      <td>314.78</td>\n",
       "      <td>25115980</td>\n",
       "    </tr>\n",
       "    <tr>\n",
       "      <th>612</th>\n",
       "      <td>SBER</td>\n",
       "      <td>D</td>\n",
       "      <td>2021-06-10</td>\n",
       "      <td>0</td>\n",
       "      <td>314.80</td>\n",
       "      <td>316.58</td>\n",
       "      <td>313.76</td>\n",
       "      <td>314.62</td>\n",
       "      <td>29201370</td>\n",
       "    </tr>\n",
       "    <tr>\n",
       "      <th>613</th>\n",
       "      <td>SBER</td>\n",
       "      <td>D</td>\n",
       "      <td>2021-06-11</td>\n",
       "      <td>0</td>\n",
       "      <td>314.88</td>\n",
       "      <td>315.08</td>\n",
       "      <td>312.50</td>\n",
       "      <td>313.00</td>\n",
       "      <td>21902100</td>\n",
       "    </tr>\n",
       "    <tr>\n",
       "      <th>614</th>\n",
       "      <td>SBER</td>\n",
       "      <td>D</td>\n",
       "      <td>2021-06-14</td>\n",
       "      <td>0</td>\n",
       "      <td>313.48</td>\n",
       "      <td>314.87</td>\n",
       "      <td>310.40</td>\n",
       "      <td>314.12</td>\n",
       "      <td>25494830</td>\n",
       "    </tr>\n",
       "    <tr>\n",
       "      <th>615</th>\n",
       "      <td>SBER</td>\n",
       "      <td>D</td>\n",
       "      <td>2021-06-15</td>\n",
       "      <td>0</td>\n",
       "      <td>314.13</td>\n",
       "      <td>315.60</td>\n",
       "      <td>312.40</td>\n",
       "      <td>312.96</td>\n",
       "      <td>27499620</td>\n",
       "    </tr>\n",
       "  </tbody>\n",
       "</table>\n",
       "<p>616 rows × 9 columns</p>\n",
       "</div>"
      ],
      "text/plain": [
       "    <TICKER> <PER>     <DATE>  <TIME>  <OPEN>  <HIGH>   <LOW>  <CLOSE>  \\\n",
       "0       SBER     D 2019-01-03       0  186.37  191.50  186.00   186.99   \n",
       "1       SBER     D 2019-01-04       0  187.99  190.99  187.77   190.99   \n",
       "2       SBER     D 2019-01-08       0  191.66  193.18  190.37   191.24   \n",
       "3       SBER     D 2019-01-09       0  192.71  197.00  192.10   197.00   \n",
       "4       SBER     D 2019-01-10       0  196.30  197.64  195.03   196.75   \n",
       "..       ...   ...        ...     ...     ...     ...     ...      ...   \n",
       "611     SBER     D 2021-06-09       0  315.01  315.90  312.90   314.78   \n",
       "612     SBER     D 2021-06-10       0  314.80  316.58  313.76   314.62   \n",
       "613     SBER     D 2021-06-11       0  314.88  315.08  312.50   313.00   \n",
       "614     SBER     D 2021-06-14       0  313.48  314.87  310.40   314.12   \n",
       "615     SBER     D 2021-06-15       0  314.13  315.60  312.40   312.96   \n",
       "\n",
       "        <VOL>  \n",
       "0    40105780  \n",
       "1    32537090  \n",
       "2    38581950  \n",
       "3    70633230  \n",
       "4    56211650  \n",
       "..        ...  \n",
       "611  25115980  \n",
       "612  29201370  \n",
       "613  21902100  \n",
       "614  25494830  \n",
       "615  27499620  \n",
       "\n",
       "[616 rows x 9 columns]"
      ]
     },
     "execution_count": 56,
     "metadata": {},
     "output_type": "execute_result"
    }
   ],
   "source": [
    "df"
   ]
  },
  {
   "cell_type": "code",
   "execution_count": 57,
   "metadata": {
    "id": "ZWi3ipapsv1P"
   },
   "outputs": [],
   "source": [
    "df = df[['<DATE>','<CLOSE>']]"
   ]
  },
  {
   "cell_type": "code",
   "execution_count": 58,
   "metadata": {
    "id": "sHaMbcyktP2B"
   },
   "outputs": [],
   "source": [
    "df.columns = ['ds','y']"
   ]
  },
  {
   "cell_type": "code",
   "execution_count": 59,
   "metadata": {},
   "outputs": [
    {
     "data": {
      "text/html": [
       "<div>\n",
       "<style scoped>\n",
       "    .dataframe tbody tr th:only-of-type {\n",
       "        vertical-align: middle;\n",
       "    }\n",
       "\n",
       "    .dataframe tbody tr th {\n",
       "        vertical-align: top;\n",
       "    }\n",
       "\n",
       "    .dataframe thead th {\n",
       "        text-align: right;\n",
       "    }\n",
       "</style>\n",
       "<table border=\"1\" class=\"dataframe\">\n",
       "  <thead>\n",
       "    <tr style=\"text-align: right;\">\n",
       "      <th></th>\n",
       "      <th>ds</th>\n",
       "      <th>y</th>\n",
       "    </tr>\n",
       "  </thead>\n",
       "  <tbody>\n",
       "    <tr>\n",
       "      <th>0</th>\n",
       "      <td>2019-01-03</td>\n",
       "      <td>186.99</td>\n",
       "    </tr>\n",
       "    <tr>\n",
       "      <th>1</th>\n",
       "      <td>2019-01-04</td>\n",
       "      <td>190.99</td>\n",
       "    </tr>\n",
       "    <tr>\n",
       "      <th>2</th>\n",
       "      <td>2019-01-08</td>\n",
       "      <td>191.24</td>\n",
       "    </tr>\n",
       "    <tr>\n",
       "      <th>3</th>\n",
       "      <td>2019-01-09</td>\n",
       "      <td>197.00</td>\n",
       "    </tr>\n",
       "    <tr>\n",
       "      <th>4</th>\n",
       "      <td>2019-01-10</td>\n",
       "      <td>196.75</td>\n",
       "    </tr>\n",
       "    <tr>\n",
       "      <th>...</th>\n",
       "      <td>...</td>\n",
       "      <td>...</td>\n",
       "    </tr>\n",
       "    <tr>\n",
       "      <th>611</th>\n",
       "      <td>2021-06-09</td>\n",
       "      <td>314.78</td>\n",
       "    </tr>\n",
       "    <tr>\n",
       "      <th>612</th>\n",
       "      <td>2021-06-10</td>\n",
       "      <td>314.62</td>\n",
       "    </tr>\n",
       "    <tr>\n",
       "      <th>613</th>\n",
       "      <td>2021-06-11</td>\n",
       "      <td>313.00</td>\n",
       "    </tr>\n",
       "    <tr>\n",
       "      <th>614</th>\n",
       "      <td>2021-06-14</td>\n",
       "      <td>314.12</td>\n",
       "    </tr>\n",
       "    <tr>\n",
       "      <th>615</th>\n",
       "      <td>2021-06-15</td>\n",
       "      <td>312.96</td>\n",
       "    </tr>\n",
       "  </tbody>\n",
       "</table>\n",
       "<p>616 rows × 2 columns</p>\n",
       "</div>"
      ],
      "text/plain": [
       "            ds       y\n",
       "0   2019-01-03  186.99\n",
       "1   2019-01-04  190.99\n",
       "2   2019-01-08  191.24\n",
       "3   2019-01-09  197.00\n",
       "4   2019-01-10  196.75\n",
       "..         ...     ...\n",
       "611 2021-06-09  314.78\n",
       "612 2021-06-10  314.62\n",
       "613 2021-06-11  313.00\n",
       "614 2021-06-14  314.12\n",
       "615 2021-06-15  312.96\n",
       "\n",
       "[616 rows x 2 columns]"
      ]
     },
     "execution_count": 59,
     "metadata": {},
     "output_type": "execute_result"
    }
   ],
   "source": [
    "df"
   ]
  },
  {
   "cell_type": "code",
   "execution_count": 60,
   "metadata": {
    "colab": {
     "base_uri": "https://localhost:8080/",
     "height": 282
    },
    "id": "Td5Gj1AxP6u7",
    "outputId": "67b5f100-c2a4-48f4-a7a6-67e60303eff5"
   },
   "outputs": [
    {
     "data": {
      "text/plain": [
       "<AxesSubplot:>"
      ]
     },
     "execution_count": 60,
     "metadata": {},
     "output_type": "execute_result"
    },
    {
     "data": {
      "image/png": "[encoded data removed]",
      "text/plain": [
       "<Figure size 432x288 with 1 Axes>"
      ]
     },
     "metadata": {
      "needs_background": "light"
     },
     "output_type": "display_data"
    }
   ],
   "source": [
    "df.y.plot()"
   ]
  },
  {
   "cell_type": "code",
   "execution_count": 61,
   "metadata": {
    "colab": {
     "base_uri": "https://localhost:8080/",
     "height": 204
    },
    "id": "DHmHLy_HQGur",
    "outputId": "6cd7a5c9-4fb0-4906-8a69-947419120d70"
   },
   "outputs": [
    {
     "data": {
      "text/html": [
       "<div>\n",
       "<style scoped>\n",
       "    .dataframe tbody tr th:only-of-type {\n",
       "        vertical-align: middle;\n",
       "    }\n",
       "\n",
       "    .dataframe tbody tr th {\n",
       "        vertical-align: top;\n",
       "    }\n",
       "\n",
       "    .dataframe thead th {\n",
       "        text-align: right;\n",
       "    }\n",
       "</style>\n",
       "<table border=\"1\" class=\"dataframe\">\n",
       "  <thead>\n",
       "    <tr style=\"text-align: right;\">\n",
       "      <th></th>\n",
       "      <th>ds</th>\n",
       "      <th>y</th>\n",
       "    </tr>\n",
       "  </thead>\n",
       "  <tbody>\n",
       "    <tr>\n",
       "      <th>611</th>\n",
       "      <td>2021-06-09</td>\n",
       "      <td>314.78</td>\n",
       "    </tr>\n",
       "    <tr>\n",
       "      <th>612</th>\n",
       "      <td>2021-06-10</td>\n",
       "      <td>314.62</td>\n",
       "    </tr>\n",
       "    <tr>\n",
       "      <th>613</th>\n",
       "      <td>2021-06-11</td>\n",
       "      <td>313.00</td>\n",
       "    </tr>\n",
       "    <tr>\n",
       "      <th>614</th>\n",
       "      <td>2021-06-14</td>\n",
       "      <td>314.12</td>\n",
       "    </tr>\n",
       "    <tr>\n",
       "      <th>615</th>\n",
       "      <td>2021-06-15</td>\n",
       "      <td>312.96</td>\n",
       "    </tr>\n",
       "  </tbody>\n",
       "</table>\n",
       "</div>"
      ],
      "text/plain": [
       "            ds       y\n",
       "611 2021-06-09  314.78\n",
       "612 2021-06-10  314.62\n",
       "613 2021-06-11  313.00\n",
       "614 2021-06-14  314.12\n",
       "615 2021-06-15  312.96"
      ]
     },
     "execution_count": 61,
     "metadata": {},
     "output_type": "execute_result"
    }
   ],
   "source": [
    "df.tail()"
   ]
  },
  {
   "cell_type": "code",
   "execution_count": 62,
   "metadata": {
    "colab": {
     "base_uri": "https://localhost:8080/"
    },
    "id": "1j62y7k4tUxd",
    "outputId": "97cadfb5-ed7f-499a-8e2e-5a1addd69111"
   },
   "outputs": [
    {
     "name": "stdout",
     "output_type": "stream",
     "text": [
      "Монотонность -  True\n"
     ]
    }
   ],
   "source": [
    "df.set_index('ds', inplace=True)\n",
    "df.sort_index(inplace=True)\n",
    "print('Монотонность - ',df.index.is_monotonic)"
   ]
  },
  {
   "cell_type": "code",
   "execution_count": 63,
   "metadata": {
    "colab": {
     "base_uri": "https://localhost:8080/",
     "height": 235
    },
    "id": "AlN8sRN9QcU2",
    "outputId": "96f91f9a-3e0a-48e7-ca04-c425fda55be1"
   },
   "outputs": [
    {
     "data": {
      "text/html": [
       "<div>\n",
       "<style scoped>\n",
       "    .dataframe tbody tr th:only-of-type {\n",
       "        vertical-align: middle;\n",
       "    }\n",
       "\n",
       "    .dataframe tbody tr th {\n",
       "        vertical-align: top;\n",
       "    }\n",
       "\n",
       "    .dataframe thead th {\n",
       "        text-align: right;\n",
       "    }\n",
       "</style>\n",
       "<table border=\"1\" class=\"dataframe\">\n",
       "  <thead>\n",
       "    <tr style=\"text-align: right;\">\n",
       "      <th></th>\n",
       "      <th>y</th>\n",
       "    </tr>\n",
       "    <tr>\n",
       "      <th>ds</th>\n",
       "      <th></th>\n",
       "    </tr>\n",
       "  </thead>\n",
       "  <tbody>\n",
       "    <tr>\n",
       "      <th>2019-01-03</th>\n",
       "      <td>186.99</td>\n",
       "    </tr>\n",
       "    <tr>\n",
       "      <th>2019-01-04</th>\n",
       "      <td>190.99</td>\n",
       "    </tr>\n",
       "    <tr>\n",
       "      <th>2019-01-08</th>\n",
       "      <td>191.24</td>\n",
       "    </tr>\n",
       "    <tr>\n",
       "      <th>2019-01-09</th>\n",
       "      <td>197.00</td>\n",
       "    </tr>\n",
       "    <tr>\n",
       "      <th>2019-01-10</th>\n",
       "      <td>196.75</td>\n",
       "    </tr>\n",
       "  </tbody>\n",
       "</table>\n",
       "</div>"
      ],
      "text/plain": [
       "                 y\n",
       "ds                \n",
       "2019-01-03  186.99\n",
       "2019-01-04  190.99\n",
       "2019-01-08  191.24\n",
       "2019-01-09  197.00\n",
       "2019-01-10  196.75"
      ]
     },
     "execution_count": 63,
     "metadata": {},
     "output_type": "execute_result"
    }
   ],
   "source": [
    "df.head()"
   ]
  },
  {
   "cell_type": "code",
   "execution_count": null,
   "metadata": {
    "colab": {
     "base_uri": "https://localhost:8080/",
     "height": 294
    },
    "id": "3Hs4d5U_tiPn",
    "outputId": "6f4fd5a4-408a-4f99-a82a-d9207a941b83"
   },
   "outputs": [],
   "source": [
    "df.plot()"
   ]
  },
  {
   "cell_type": "code",
   "execution_count": 65,
   "metadata": {
    "colab": {
     "base_uri": "https://localhost:8080/",
     "height": 294
    },
    "id": "YOgkG6vzRGoK",
    "outputId": "c0c816f0-bef3-4131-d89e-290850dbdcee"
   },
   "outputs": [
    {
     "data": {
      "text/plain": [
       "<AxesSubplot:xlabel='ds'>"
      ]
     },
     "execution_count": 65,
     "metadata": {},
     "output_type": "execute_result"
    },
    {
     "data": {
      "image/png": "[encoded data removed]",
      "text/plain": [
       "<Figure size 432x288 with 1 Axes>"
      ]
     },
     "metadata": {
      "needs_background": "light"
     },
     "output_type": "display_data"
    }
   ],
   "source": [
    "df.rolling(50).mean().plot()"
   ]
  },
  {
   "cell_type": "code",
   "execution_count": 6,
   "metadata": {
    "id": "l1ctDHA3tzn2"
   },
   "outputs": [],
   "source": [
    "# функция по созданию сгенерированных признаков\n",
    "def make_features(data, max_lag, rolling_mean_size):\n",
    "    data['year'] = data.index.year\n",
    "    data['month'] = data.index.month\n",
    "    data['day'] = data.index.day\n",
    "    data['dayofweek'] = data.index.dayofweek\n",
    "    data['is_weekend'] = data.index.isin([5,6])*1\n",
    "    \n",
    "    for lag in range(1, max_lag + 1):\n",
    "        data['lag_{}'.format(lag)] = data['y'].shift(lag)\n",
    "\n",
    "    data['y_mean'] = data['y'].shift().rolling(rolling_mean_size).mean().copy()"
   ]
  },
  {
   "cell_type": "code",
   "execution_count": 7,
   "metadata": {
    "colab": {
     "base_uri": "https://localhost:8080/"
    },
    "id": "vni1pC8FuXyJ",
    "outputId": "3db41039-cb6b-4108-a697-4f8d90943b2d"
   },
   "outputs": [
    {
     "ename": "NameError",
     "evalue": "name 'df' is not defined",
     "output_type": "error",
     "traceback": [
      "\u001b[1;31m---------------------------------------------------------------------------\u001b[0m",
      "\u001b[1;31mNameError\u001b[0m                                 Traceback (most recent call last)",
      "\u001b[1;32m<ipython-input-7-8fdc128cd5d1>\u001b[0m in \u001b[0;36m<module>\u001b[1;34m\u001b[0m\n\u001b[1;32m----> 1\u001b[1;33m \u001b[0mmake_features\u001b[0m\u001b[1;33m(\u001b[0m\u001b[0mdf\u001b[0m\u001b[1;33m,\u001b[0m \u001b[1;36m7\u001b[0m\u001b[1;33m,\u001b[0m \u001b[1;36m3\u001b[0m\u001b[1;33m)\u001b[0m\u001b[1;33m\u001b[0m\u001b[1;33m\u001b[0m\u001b[0m\n\u001b[0m",
      "\u001b[1;31mNameError\u001b[0m: name 'df' is not defined"
     ]
    }
   ],
   "source": [
    "make_features(df, 7, 3)"
   ]
  },
  {
   "cell_type": "code",
   "execution_count": 69,
   "metadata": {
    "id": "RKJC_a31uhVf"
   },
   "outputs": [],
   "source": [
    "df.dropna(inplace=True)"
   ]
  },
  {
   "cell_type": "code",
   "execution_count": 70,
   "metadata": {},
   "outputs": [
    {
     "data": {
      "text/html": [
       "<div>\n",
       "<style scoped>\n",
       "    .dataframe tbody tr th:only-of-type {\n",
       "        vertical-align: middle;\n",
       "    }\n",
       "\n",
       "    .dataframe tbody tr th {\n",
       "        vertical-align: top;\n",
       "    }\n",
       "\n",
       "    .dataframe thead th {\n",
       "        text-align: right;\n",
       "    }\n",
       "</style>\n",
       "<table border=\"1\" class=\"dataframe\">\n",
       "  <thead>\n",
       "    <tr style=\"text-align: right;\">\n",
       "      <th></th>\n",
       "      <th>y</th>\n",
       "      <th>year</th>\n",
       "      <th>month</th>\n",
       "      <th>day</th>\n",
       "      <th>dayofweek</th>\n",
       "      <th>is_weekend</th>\n",
       "      <th>lag_1</th>\n",
       "      <th>lag_2</th>\n",
       "      <th>lag_3</th>\n",
       "      <th>lag_4</th>\n",
       "      <th>lag_5</th>\n",
       "      <th>lag_6</th>\n",
       "      <th>lag_7</th>\n",
       "      <th>y_mean</th>\n",
       "    </tr>\n",
       "    <tr>\n",
       "      <th>ds</th>\n",
       "      <th></th>\n",
       "      <th></th>\n",
       "      <th></th>\n",
       "      <th></th>\n",
       "      <th></th>\n",
       "      <th></th>\n",
       "      <th></th>\n",
       "      <th></th>\n",
       "      <th></th>\n",
       "      <th></th>\n",
       "      <th></th>\n",
       "      <th></th>\n",
       "      <th></th>\n",
       "      <th></th>\n",
       "    </tr>\n",
       "  </thead>\n",
       "  <tbody>\n",
       "    <tr>\n",
       "      <th>2019-01-15</th>\n",
       "      <td>198.00</td>\n",
       "      <td>2019</td>\n",
       "      <td>1</td>\n",
       "      <td>15</td>\n",
       "      <td>1</td>\n",
       "      <td>0</td>\n",
       "      <td>196.80</td>\n",
       "      <td>196.80</td>\n",
       "      <td>196.75</td>\n",
       "      <td>197.00</td>\n",
       "      <td>191.24</td>\n",
       "      <td>190.99</td>\n",
       "      <td>186.99</td>\n",
       "      <td>196.783333</td>\n",
       "    </tr>\n",
       "    <tr>\n",
       "      <th>2019-01-16</th>\n",
       "      <td>201.26</td>\n",
       "      <td>2019</td>\n",
       "      <td>1</td>\n",
       "      <td>16</td>\n",
       "      <td>2</td>\n",
       "      <td>0</td>\n",
       "      <td>198.00</td>\n",
       "      <td>196.80</td>\n",
       "      <td>196.80</td>\n",
       "      <td>196.75</td>\n",
       "      <td>197.00</td>\n",
       "      <td>191.24</td>\n",
       "      <td>190.99</td>\n",
       "      <td>197.200000</td>\n",
       "    </tr>\n",
       "    <tr>\n",
       "      <th>2019-01-17</th>\n",
       "      <td>203.32</td>\n",
       "      <td>2019</td>\n",
       "      <td>1</td>\n",
       "      <td>17</td>\n",
       "      <td>3</td>\n",
       "      <td>0</td>\n",
       "      <td>201.26</td>\n",
       "      <td>198.00</td>\n",
       "      <td>196.80</td>\n",
       "      <td>196.80</td>\n",
       "      <td>196.75</td>\n",
       "      <td>197.00</td>\n",
       "      <td>191.24</td>\n",
       "      <td>198.686667</td>\n",
       "    </tr>\n",
       "    <tr>\n",
       "      <th>2019-01-18</th>\n",
       "      <td>208.44</td>\n",
       "      <td>2019</td>\n",
       "      <td>1</td>\n",
       "      <td>18</td>\n",
       "      <td>4</td>\n",
       "      <td>0</td>\n",
       "      <td>203.32</td>\n",
       "      <td>201.26</td>\n",
       "      <td>198.00</td>\n",
       "      <td>196.80</td>\n",
       "      <td>196.80</td>\n",
       "      <td>196.75</td>\n",
       "      <td>197.00</td>\n",
       "      <td>200.860000</td>\n",
       "    </tr>\n",
       "    <tr>\n",
       "      <th>2019-01-21</th>\n",
       "      <td>207.17</td>\n",
       "      <td>2019</td>\n",
       "      <td>1</td>\n",
       "      <td>21</td>\n",
       "      <td>0</td>\n",
       "      <td>0</td>\n",
       "      <td>208.44</td>\n",
       "      <td>203.32</td>\n",
       "      <td>201.26</td>\n",
       "      <td>198.00</td>\n",
       "      <td>196.80</td>\n",
       "      <td>196.80</td>\n",
       "      <td>196.75</td>\n",
       "      <td>204.340000</td>\n",
       "    </tr>\n",
       "    <tr>\n",
       "      <th>...</th>\n",
       "      <td>...</td>\n",
       "      <td>...</td>\n",
       "      <td>...</td>\n",
       "      <td>...</td>\n",
       "      <td>...</td>\n",
       "      <td>...</td>\n",
       "      <td>...</td>\n",
       "      <td>...</td>\n",
       "      <td>...</td>\n",
       "      <td>...</td>\n",
       "      <td>...</td>\n",
       "      <td>...</td>\n",
       "      <td>...</td>\n",
       "      <td>...</td>\n",
       "    </tr>\n",
       "    <tr>\n",
       "      <th>2021-06-09</th>\n",
       "      <td>314.78</td>\n",
       "      <td>2021</td>\n",
       "      <td>6</td>\n",
       "      <td>9</td>\n",
       "      <td>2</td>\n",
       "      <td>0</td>\n",
       "      <td>314.83</td>\n",
       "      <td>315.53</td>\n",
       "      <td>310.94</td>\n",
       "      <td>312.41</td>\n",
       "      <td>313.98</td>\n",
       "      <td>311.60</td>\n",
       "      <td>310.79</td>\n",
       "      <td>313.766667</td>\n",
       "    </tr>\n",
       "    <tr>\n",
       "      <th>2021-06-10</th>\n",
       "      <td>314.62</td>\n",
       "      <td>2021</td>\n",
       "      <td>6</td>\n",
       "      <td>10</td>\n",
       "      <td>3</td>\n",
       "      <td>0</td>\n",
       "      <td>314.78</td>\n",
       "      <td>314.83</td>\n",
       "      <td>315.53</td>\n",
       "      <td>310.94</td>\n",
       "      <td>312.41</td>\n",
       "      <td>313.98</td>\n",
       "      <td>311.60</td>\n",
       "      <td>315.046667</td>\n",
       "    </tr>\n",
       "    <tr>\n",
       "      <th>2021-06-11</th>\n",
       "      <td>313.00</td>\n",
       "      <td>2021</td>\n",
       "      <td>6</td>\n",
       "      <td>11</td>\n",
       "      <td>4</td>\n",
       "      <td>0</td>\n",
       "      <td>314.62</td>\n",
       "      <td>314.78</td>\n",
       "      <td>314.83</td>\n",
       "      <td>315.53</td>\n",
       "      <td>310.94</td>\n",
       "      <td>312.41</td>\n",
       "      <td>313.98</td>\n",
       "      <td>314.743333</td>\n",
       "    </tr>\n",
       "    <tr>\n",
       "      <th>2021-06-14</th>\n",
       "      <td>314.12</td>\n",
       "      <td>2021</td>\n",
       "      <td>6</td>\n",
       "      <td>14</td>\n",
       "      <td>0</td>\n",
       "      <td>0</td>\n",
       "      <td>313.00</td>\n",
       "      <td>314.62</td>\n",
       "      <td>314.78</td>\n",
       "      <td>314.83</td>\n",
       "      <td>315.53</td>\n",
       "      <td>310.94</td>\n",
       "      <td>312.41</td>\n",
       "      <td>314.133333</td>\n",
       "    </tr>\n",
       "    <tr>\n",
       "      <th>2021-06-15</th>\n",
       "      <td>312.96</td>\n",
       "      <td>2021</td>\n",
       "      <td>6</td>\n",
       "      <td>15</td>\n",
       "      <td>1</td>\n",
       "      <td>0</td>\n",
       "      <td>314.12</td>\n",
       "      <td>313.00</td>\n",
       "      <td>314.62</td>\n",
       "      <td>314.78</td>\n",
       "      <td>314.83</td>\n",
       "      <td>315.53</td>\n",
       "      <td>310.94</td>\n",
       "      <td>313.913333</td>\n",
       "    </tr>\n",
       "  </tbody>\n",
       "</table>\n",
       "<p>609 rows × 14 columns</p>\n",
       "</div>"
      ],
      "text/plain": [
       "                 y  year  month  day  dayofweek  is_weekend   lag_1   lag_2  \\\n",
       "ds                                                                            \n",
       "2019-01-15  198.00  2019      1   15          1           0  196.80  196.80   \n",
       "2019-01-16  201.26  2019      1   16          2           0  198.00  196.80   \n",
       "2019-01-17  203.32  2019      1   17          3           0  201.26  198.00   \n",
       "2019-01-18  208.44  2019      1   18          4           0  203.32  201.26   \n",
       "2019-01-21  207.17  2019      1   21          0           0  208.44  203.32   \n",
       "...            ...   ...    ...  ...        ...         ...     ...     ...   \n",
       "2021-06-09  314.78  2021      6    9          2           0  314.83  315.53   \n",
       "2021-06-10  314.62  2021      6   10          3           0  314.78  314.83   \n",
       "2021-06-11  313.00  2021      6   11          4           0  314.62  314.78   \n",
       "2021-06-14  314.12  2021      6   14          0           0  313.00  314.62   \n",
       "2021-06-15  312.96  2021      6   15          1           0  314.12  313.00   \n",
       "\n",
       "             lag_3   lag_4   lag_5   lag_6   lag_7      y_mean  \n",
       "ds                                                              \n",
       "2019-01-15  196.75  197.00  191.24  190.99  186.99  196.783333  \n",
       "2019-01-16  196.80  196.75  197.00  191.24  190.99  197.200000  \n",
       "2019-01-17  196.80  196.80  196.75  197.00  191.24  198.686667  \n",
       "2019-01-18  198.00  196.80  196.80  196.75  197.00  200.860000  \n",
       "2019-01-21  201.26  198.00  196.80  196.80  196.75  204.340000  \n",
       "...            ...     ...     ...     ...     ...         ...  \n",
       "2021-06-09  310.94  312.41  313.98  311.60  310.79  313.766667  \n",
       "2021-06-10  315.53  310.94  312.41  313.98  311.60  315.046667  \n",
       "2021-06-11  314.83  315.53  310.94  312.41  313.98  314.743333  \n",
       "2021-06-14  314.78  314.83  315.53  310.94  312.41  314.133333  \n",
       "2021-06-15  314.62  314.78  314.83  315.53  310.94  313.913333  \n",
       "\n",
       "[609 rows x 14 columns]"
      ]
     },
     "execution_count": 70,
     "metadata": {},
     "output_type": "execute_result"
    }
   ],
   "source": [
    "df"
   ]
  },
  {
   "cell_type": "code",
   "execution_count": null,
   "metadata": {
    "colab": {
     "base_uri": "https://localhost:8080/",
     "height": 450
    },
    "id": "NBrUYV8ZR24X",
    "outputId": "b4030bd9-2d0c-426c-9843-2b663bcf1bc7"
   },
   "outputs": [],
   "source": [
    "df"
   ]
  },
  {
   "cell_type": "code",
   "execution_count": 71,
   "metadata": {
    "id": "4wV7sQkeu_O_"
   },
   "outputs": [],
   "source": [
    "from sklearn.model_selection import train_test_split"
   ]
  },
  {
   "cell_type": "code",
   "execution_count": 72,
   "metadata": {
    "colab": {
     "base_uri": "https://localhost:8080/"
    },
    "id": "EbSNSVPZun8o",
    "outputId": "9b51edbc-0f93-4796-9981-9591acf65a15"
   },
   "outputs": [
    {
     "name": "stdout",
     "output_type": "stream",
     "text": [
      "X_train (548, 13)\n",
      "X_test (61, 13)\n"
     ]
    }
   ],
   "source": [
    "features = df.drop(['y'],axis = 1)\n",
    "target = df['y']\n",
    "X_train,X_test,y_train, y_test = train_test_split(features,target, shuffle=False, test_size=0.1)\n",
    "print('X_train',X_train.shape)\n",
    "print('X_test',X_test.shape)"
   ]
  },
  {
   "cell_type": "code",
   "execution_count": 73,
   "metadata": {
    "colab": {
     "base_uri": "https://localhost:8080/"
    },
    "id": "bqUcKZ42vRPi",
    "outputId": "372e4746-3e76-417f-9c2f-4d0013fa2b5a"
   },
   "outputs": [],
   "source": [
    "import pandas as pd\n",
    "import numpy as np\n",
    "from sklearn.model_selection import train_test_split, GridSearchCV\n",
    "from sklearn.linear_model import LinearRegression\n",
    "from sklearn.metrics import mean_squared_error\n",
    "from math import sqrt\n",
    "from statsmodels.tsa.seasonal import seasonal_decompose\n",
    "import matplotlib.pyplot as plt\n",
    "from sklearn.ensemble import RandomForestRegressor"
   ]
  },
  {
   "cell_type": "code",
   "execution_count": 74,
   "metadata": {
    "colab": {
     "base_uri": "https://localhost:8080/"
    },
    "id": "05LviQ17vCLP",
    "outputId": "e72fa5c8-3be7-4b83-85d7-db17f76caf11"
   },
   "outputs": [
    {
     "data": {
      "text/plain": [
       "LinearRegression()"
      ]
     },
     "execution_count": 74,
     "metadata": {},
     "output_type": "execute_result"
    }
   ],
   "source": [
    "model_lr = LinearRegression()\n",
    "model_lr.fit(X_train,y_train)"
   ]
  },
  {
   "cell_type": "code",
   "execution_count": 75,
   "metadata": {
    "id": "Q8bfBkgYvXMN"
   },
   "outputs": [],
   "source": [
    "y_predicted_lr = model_lr.predict(X_test)"
   ]
  },
  {
   "cell_type": "code",
   "execution_count": 76,
   "metadata": {
    "colab": {
     "base_uri": "https://localhost:8080/"
    },
    "id": "wYTRy73OvkrP",
    "outputId": "ecbe78a7-1db1-462b-df86-edec45db0cb2"
   },
   "outputs": [
    {
     "name": "stdout",
     "output_type": "stream",
     "text": [
      "RMSE тестовой выборки LinearRegression:  3.900656144344142\n"
     ]
    }
   ],
   "source": [
    "print(\"RMSE тестовой выборки LinearRegression: \",np.sqrt(mean_squared_error(y_test, y_predicted_lr)))\n"
   ]
  },
  {
   "cell_type": "code",
   "execution_count": 77,
   "metadata": {
    "colab": {
     "base_uri": "https://localhost:8080/",
     "height": 235
    },
    "id": "1f_Hf8i-SuTj",
    "outputId": "4e3d120c-ab6d-4beb-c8b6-1e419403e02b"
   },
   "outputs": [
    {
     "data": {
      "text/html": [
       "<div>\n",
       "<style scoped>\n",
       "    .dataframe tbody tr th:only-of-type {\n",
       "        vertical-align: middle;\n",
       "    }\n",
       "\n",
       "    .dataframe tbody tr th {\n",
       "        vertical-align: top;\n",
       "    }\n",
       "\n",
       "    .dataframe thead th {\n",
       "        text-align: right;\n",
       "    }\n",
       "</style>\n",
       "<table border=\"1\" class=\"dataframe\">\n",
       "  <thead>\n",
       "    <tr style=\"text-align: right;\">\n",
       "      <th></th>\n",
       "      <th>y</th>\n",
       "      <th>year</th>\n",
       "      <th>month</th>\n",
       "      <th>day</th>\n",
       "      <th>dayofweek</th>\n",
       "      <th>is_weekend</th>\n",
       "      <th>lag_1</th>\n",
       "      <th>lag_2</th>\n",
       "      <th>lag_3</th>\n",
       "      <th>lag_4</th>\n",
       "      <th>lag_5</th>\n",
       "      <th>lag_6</th>\n",
       "      <th>lag_7</th>\n",
       "      <th>y_mean</th>\n",
       "    </tr>\n",
       "    <tr>\n",
       "      <th>ds</th>\n",
       "      <th></th>\n",
       "      <th></th>\n",
       "      <th></th>\n",
       "      <th></th>\n",
       "      <th></th>\n",
       "      <th></th>\n",
       "      <th></th>\n",
       "      <th></th>\n",
       "      <th></th>\n",
       "      <th></th>\n",
       "      <th></th>\n",
       "      <th></th>\n",
       "      <th></th>\n",
       "      <th></th>\n",
       "    </tr>\n",
       "  </thead>\n",
       "  <tbody>\n",
       "    <tr>\n",
       "      <th>2021-06-09</th>\n",
       "      <td>314.78</td>\n",
       "      <td>2021</td>\n",
       "      <td>6</td>\n",
       "      <td>9</td>\n",
       "      <td>2</td>\n",
       "      <td>0</td>\n",
       "      <td>314.83</td>\n",
       "      <td>315.53</td>\n",
       "      <td>310.94</td>\n",
       "      <td>312.41</td>\n",
       "      <td>313.98</td>\n",
       "      <td>311.60</td>\n",
       "      <td>310.79</td>\n",
       "      <td>313.766667</td>\n",
       "    </tr>\n",
       "    <tr>\n",
       "      <th>2021-06-10</th>\n",
       "      <td>314.62</td>\n",
       "      <td>2021</td>\n",
       "      <td>6</td>\n",
       "      <td>10</td>\n",
       "      <td>3</td>\n",
       "      <td>0</td>\n",
       "      <td>314.78</td>\n",
       "      <td>314.83</td>\n",
       "      <td>315.53</td>\n",
       "      <td>310.94</td>\n",
       "      <td>312.41</td>\n",
       "      <td>313.98</td>\n",
       "      <td>311.60</td>\n",
       "      <td>315.046667</td>\n",
       "    </tr>\n",
       "    <tr>\n",
       "      <th>2021-06-11</th>\n",
       "      <td>313.00</td>\n",
       "      <td>2021</td>\n",
       "      <td>6</td>\n",
       "      <td>11</td>\n",
       "      <td>4</td>\n",
       "      <td>0</td>\n",
       "      <td>314.62</td>\n",
       "      <td>314.78</td>\n",
       "      <td>314.83</td>\n",
       "      <td>315.53</td>\n",
       "      <td>310.94</td>\n",
       "      <td>312.41</td>\n",
       "      <td>313.98</td>\n",
       "      <td>314.743333</td>\n",
       "    </tr>\n",
       "    <tr>\n",
       "      <th>2021-06-14</th>\n",
       "      <td>314.12</td>\n",
       "      <td>2021</td>\n",
       "      <td>6</td>\n",
       "      <td>14</td>\n",
       "      <td>0</td>\n",
       "      <td>0</td>\n",
       "      <td>313.00</td>\n",
       "      <td>314.62</td>\n",
       "      <td>314.78</td>\n",
       "      <td>314.83</td>\n",
       "      <td>315.53</td>\n",
       "      <td>310.94</td>\n",
       "      <td>312.41</td>\n",
       "      <td>314.133333</td>\n",
       "    </tr>\n",
       "    <tr>\n",
       "      <th>2021-06-15</th>\n",
       "      <td>312.96</td>\n",
       "      <td>2021</td>\n",
       "      <td>6</td>\n",
       "      <td>15</td>\n",
       "      <td>1</td>\n",
       "      <td>0</td>\n",
       "      <td>314.12</td>\n",
       "      <td>313.00</td>\n",
       "      <td>314.62</td>\n",
       "      <td>314.78</td>\n",
       "      <td>314.83</td>\n",
       "      <td>315.53</td>\n",
       "      <td>310.94</td>\n",
       "      <td>313.913333</td>\n",
       "    </tr>\n",
       "  </tbody>\n",
       "</table>\n",
       "</div>"
      ],
      "text/plain": [
       "                 y  year  month  day  dayofweek  is_weekend   lag_1   lag_2  \\\n",
       "ds                                                                            \n",
       "2021-06-09  314.78  2021      6    9          2           0  314.83  315.53   \n",
       "2021-06-10  314.62  2021      6   10          3           0  314.78  314.83   \n",
       "2021-06-11  313.00  2021      6   11          4           0  314.62  314.78   \n",
       "2021-06-14  314.12  2021      6   14          0           0  313.00  314.62   \n",
       "2021-06-15  312.96  2021      6   15          1           0  314.12  313.00   \n",
       "\n",
       "             lag_3   lag_4   lag_5   lag_6   lag_7      y_mean  \n",
       "ds                                                              \n",
       "2021-06-09  310.94  312.41  313.98  311.60  310.79  313.766667  \n",
       "2021-06-10  315.53  310.94  312.41  313.98  311.60  315.046667  \n",
       "2021-06-11  314.83  315.53  310.94  312.41  313.98  314.743333  \n",
       "2021-06-14  314.78  314.83  315.53  310.94  312.41  314.133333  \n",
       "2021-06-15  314.62  314.78  314.83  315.53  310.94  313.913333  "
      ]
     },
     "execution_count": 77,
     "metadata": {},
     "output_type": "execute_result"
    }
   ],
   "source": [
    "df.tail()"
   ]
  },
  {
   "cell_type": "code",
   "execution_count": 78,
   "metadata": {
    "colab": {
     "base_uri": "https://localhost:8080/",
     "height": 553
    },
    "id": "AgZF_ajIvt6M",
    "outputId": "831f580b-d154-46ba-9390-95ac859d2c52"
   },
   "outputs": [
    {
     "data": {
      "image/png": "[encoded data removed]",
      "text/plain": [
       "<Figure size 1440x648 with 1 Axes>"
      ]
     },
     "metadata": {
      "needs_background": "light"
     },
     "output_type": "display_data"
    }
   ],
   "source": [
    "plt.figure(figsize=(20, 9))\n",
    "plt.plot(y_predicted_lr, \"r\",linewidth=5, label=\"LinearRegression\")\n",
    "plt.plot(y_test.values,'b' ,label=\"actual\", linewidth=5, alpha = 0.5)\n",
    "plt.legend(loc=\"best\")\n",
    "plt.title(\"Оценка моделей\")\n",
    "plt.grid(True);"
   ]
  },
  {
   "cell_type": "code",
   "execution_count": 79,
   "metadata": {
    "id": "xvuPnIXRw_d4"
   },
   "outputs": [],
   "source": [
    "from prophet import Prophet\n",
    "m = Prophet()"
   ]
  },
  {
   "cell_type": "code",
   "execution_count": 80,
   "metadata": {
    "id": "GzeoC3UOxLV1"
   },
   "outputs": [],
   "source": [
    "df_prophet = df[['y']]"
   ]
  },
  {
   "cell_type": "code",
   "execution_count": 81,
   "metadata": {
    "id": "3iB6571pxRtc"
   },
   "outputs": [],
   "source": [
    "df_prophet.reset_index(inplace=True)"
   ]
  },
  {
   "cell_type": "code",
   "execution_count": 82,
   "metadata": {
    "colab": {
     "base_uri": "https://localhost:8080/",
     "height": 419
    },
    "id": "IqFBroFnTSuc",
    "outputId": "8de05a9c-e840-4a8e-8c9d-e9c920baceb6"
   },
   "outputs": [
    {
     "data": {
      "text/html": [
       "<div>\n",
       "<style scoped>\n",
       "    .dataframe tbody tr th:only-of-type {\n",
       "        vertical-align: middle;\n",
       "    }\n",
       "\n",
       "    .dataframe tbody tr th {\n",
       "        vertical-align: top;\n",
       "    }\n",
       "\n",
       "    .dataframe thead th {\n",
       "        text-align: right;\n",
       "    }\n",
       "</style>\n",
       "<table border=\"1\" class=\"dataframe\">\n",
       "  <thead>\n",
       "    <tr style=\"text-align: right;\">\n",
       "      <th></th>\n",
       "      <th>ds</th>\n",
       "      <th>y</th>\n",
       "    </tr>\n",
       "  </thead>\n",
       "  <tbody>\n",
       "    <tr>\n",
       "      <th>0</th>\n",
       "      <td>2019-01-15</td>\n",
       "      <td>198.00</td>\n",
       "    </tr>\n",
       "    <tr>\n",
       "      <th>1</th>\n",
       "      <td>2019-01-16</td>\n",
       "      <td>201.26</td>\n",
       "    </tr>\n",
       "    <tr>\n",
       "      <th>2</th>\n",
       "      <td>2019-01-17</td>\n",
       "      <td>203.32</td>\n",
       "    </tr>\n",
       "    <tr>\n",
       "      <th>3</th>\n",
       "      <td>2019-01-18</td>\n",
       "      <td>208.44</td>\n",
       "    </tr>\n",
       "    <tr>\n",
       "      <th>4</th>\n",
       "      <td>2019-01-21</td>\n",
       "      <td>207.17</td>\n",
       "    </tr>\n",
       "    <tr>\n",
       "      <th>...</th>\n",
       "      <td>...</td>\n",
       "      <td>...</td>\n",
       "    </tr>\n",
       "    <tr>\n",
       "      <th>604</th>\n",
       "      <td>2021-06-09</td>\n",
       "      <td>314.78</td>\n",
       "    </tr>\n",
       "    <tr>\n",
       "      <th>605</th>\n",
       "      <td>2021-06-10</td>\n",
       "      <td>314.62</td>\n",
       "    </tr>\n",
       "    <tr>\n",
       "      <th>606</th>\n",
       "      <td>2021-06-11</td>\n",
       "      <td>313.00</td>\n",
       "    </tr>\n",
       "    <tr>\n",
       "      <th>607</th>\n",
       "      <td>2021-06-14</td>\n",
       "      <td>314.12</td>\n",
       "    </tr>\n",
       "    <tr>\n",
       "      <th>608</th>\n",
       "      <td>2021-06-15</td>\n",
       "      <td>312.96</td>\n",
       "    </tr>\n",
       "  </tbody>\n",
       "</table>\n",
       "<p>609 rows × 2 columns</p>\n",
       "</div>"
      ],
      "text/plain": [
       "            ds       y\n",
       "0   2019-01-15  198.00\n",
       "1   2019-01-16  201.26\n",
       "2   2019-01-17  203.32\n",
       "3   2019-01-18  208.44\n",
       "4   2019-01-21  207.17\n",
       "..         ...     ...\n",
       "604 2021-06-09  314.78\n",
       "605 2021-06-10  314.62\n",
       "606 2021-06-11  313.00\n",
       "607 2021-06-14  314.12\n",
       "608 2021-06-15  312.96\n",
       "\n",
       "[609 rows x 2 columns]"
      ]
     },
     "execution_count": 82,
     "metadata": {},
     "output_type": "execute_result"
    }
   ],
   "source": [
    "df_prophet"
   ]
  },
  {
   "cell_type": "code",
   "execution_count": 83,
   "metadata": {
    "colab": {
     "base_uri": "https://localhost:8080/"
    },
    "id": "tnfrHACSxaw1",
    "outputId": "4a25fdec-8366-4731-e2a1-d6ff78b71ec1"
   },
   "outputs": [
    {
     "name": "stderr",
     "output_type": "stream",
     "text": [
      "INFO:prophet:Disabling daily seasonality. Run prophet with daily_seasonality=True to override this.\n"
     ]
    },
    {
     "name": "stdout",
     "output_type": "stream",
     "text": [
      "Initial log joint probability = -5.63455\n"
     ]
    },
    {
     "data": {
      "text/plain": [
       "<prophet.forecaster.Prophet at 0x1458cc580>"
      ]
     },
     "execution_count": 83,
     "metadata": {},
     "output_type": "execute_result"
    },
    {
     "name": "stdout",
     "output_type": "stream",
     "text": [
      "    Iter      log prob        ||dx||      ||grad||       alpha      alpha0  # evals  Notes \n",
      "      99       1727.18     0.0589273       445.513           1           1      119   \n",
      "    Iter      log prob        ||dx||      ||grad||       alpha      alpha0  # evals  Notes \n",
      "     199       1745.42    0.00501214       329.083           1           1      235   \n",
      "    Iter      log prob        ||dx||      ||grad||       alpha      alpha0  # evals  Notes \n",
      "     238       1748.09   9.50476e-05       93.9248   5.137e-07       0.001      332  LS failed, Hessian reset \n",
      "     299       1757.03    0.00416251       612.849           1           1      411   \n",
      "    Iter      log prob        ||dx||      ||grad||       alpha      alpha0  # evals  Notes \n",
      "     379       1762.22   9.84557e-05       121.004   5.638e-07       0.001      559  LS failed, Hessian reset \n",
      "     399       1762.66   0.000580254       107.236           1           1      581   \n",
      "    Iter      log prob        ||dx||      ||grad||       alpha      alpha0  # evals  Notes \n",
      "     499       1765.08     0.0006066       146.725           1           1      712   \n",
      "    Iter      log prob        ||dx||      ||grad||       alpha      alpha0  # evals  Notes \n",
      "     526       1765.94   0.000168774       143.582   4.168e-07       0.001      788  LS failed, Hessian reset \n",
      "     599        1766.8   0.000365083       74.0013      0.1408      0.4909      880   \n",
      "    Iter      log prob        ||dx||      ||grad||       alpha      alpha0  # evals  Notes \n",
      "     690       1767.76   0.000730665       299.797   5.923e-06       0.001     1031  LS failed, Hessian reset \n",
      "     699       1767.95   0.000685697       62.9248           1           1     1040   \n",
      "    Iter      log prob        ||dx||      ||grad||       alpha      alpha0  # evals  Notes \n",
      "     726       1768.02   4.60869e-05       56.6884   7.564e-07       0.001     1112  LS failed, Hessian reset \n",
      "     760       1768.02   2.35736e-08        63.903     0.01122      0.1373     1162   \n",
      "Optimization terminated normally: \n",
      "  Convergence detected: relative gradient magnitude is below tolerance\n"
     ]
    }
   ],
   "source": [
    "m.fit(df_prophet)"
   ]
  },
  {
   "cell_type": "code",
   "execution_count": 84,
   "metadata": {
    "colab": {
     "base_uri": "https://localhost:8080/",
     "height": 204
    },
    "id": "GgAxIyzpxhf-",
    "outputId": "6feec2c3-b3e5-4d2e-d04c-398ca301bb58"
   },
   "outputs": [
    {
     "data": {
      "text/html": [
       "<div>\n",
       "<style scoped>\n",
       "    .dataframe tbody tr th:only-of-type {\n",
       "        vertical-align: middle;\n",
       "    }\n",
       "\n",
       "    .dataframe tbody tr th {\n",
       "        vertical-align: top;\n",
       "    }\n",
       "\n",
       "    .dataframe thead th {\n",
       "        text-align: right;\n",
       "    }\n",
       "</style>\n",
       "<table border=\"1\" class=\"dataframe\">\n",
       "  <thead>\n",
       "    <tr style=\"text-align: right;\">\n",
       "      <th></th>\n",
       "      <th>ds</th>\n",
       "    </tr>\n",
       "  </thead>\n",
       "  <tbody>\n",
       "    <tr>\n",
       "      <th>609</th>\n",
       "      <td>2021-06-16</td>\n",
       "    </tr>\n",
       "    <tr>\n",
       "      <th>610</th>\n",
       "      <td>2021-06-17</td>\n",
       "    </tr>\n",
       "    <tr>\n",
       "      <th>611</th>\n",
       "      <td>2021-06-18</td>\n",
       "    </tr>\n",
       "    <tr>\n",
       "      <th>612</th>\n",
       "      <td>2021-06-19</td>\n",
       "    </tr>\n",
       "    <tr>\n",
       "      <th>613</th>\n",
       "      <td>2021-06-20</td>\n",
       "    </tr>\n",
       "  </tbody>\n",
       "</table>\n",
       "</div>"
      ],
      "text/plain": [
       "            ds\n",
       "609 2021-06-16\n",
       "610 2021-06-17\n",
       "611 2021-06-18\n",
       "612 2021-06-19\n",
       "613 2021-06-20"
      ]
     },
     "execution_count": 84,
     "metadata": {},
     "output_type": "execute_result"
    }
   ],
   "source": [
    "future = m.make_future_dataframe(periods=5)\n",
    "future.tail()"
   ]
  },
  {
   "cell_type": "code",
   "execution_count": 85,
   "metadata": {},
   "outputs": [],
   "source": [
    "forecast = m.predict(future)"
   ]
  },
  {
   "cell_type": "code",
   "execution_count": 86,
   "metadata": {},
   "outputs": [
    {
     "data": {
      "text/html": [
       "<div>\n",
       "<style scoped>\n",
       "    .dataframe tbody tr th:only-of-type {\n",
       "        vertical-align: middle;\n",
       "    }\n",
       "\n",
       "    .dataframe tbody tr th {\n",
       "        vertical-align: top;\n",
       "    }\n",
       "\n",
       "    .dataframe thead th {\n",
       "        text-align: right;\n",
       "    }\n",
       "</style>\n",
       "<table border=\"1\" class=\"dataframe\">\n",
       "  <thead>\n",
       "    <tr style=\"text-align: right;\">\n",
       "      <th></th>\n",
       "      <th>ds</th>\n",
       "      <th>trend</th>\n",
       "      <th>yhat_lower</th>\n",
       "      <th>yhat_upper</th>\n",
       "      <th>trend_lower</th>\n",
       "      <th>trend_upper</th>\n",
       "      <th>additive_terms</th>\n",
       "      <th>additive_terms_lower</th>\n",
       "      <th>additive_terms_upper</th>\n",
       "      <th>weekly</th>\n",
       "      <th>weekly_lower</th>\n",
       "      <th>weekly_upper</th>\n",
       "      <th>yearly</th>\n",
       "      <th>yearly_lower</th>\n",
       "      <th>yearly_upper</th>\n",
       "      <th>multiplicative_terms</th>\n",
       "      <th>multiplicative_terms_lower</th>\n",
       "      <th>multiplicative_terms_upper</th>\n",
       "      <th>yhat</th>\n",
       "    </tr>\n",
       "  </thead>\n",
       "  <tbody>\n",
       "    <tr>\n",
       "      <th>0</th>\n",
       "      <td>2019-01-15</td>\n",
       "      <td>192.287423</td>\n",
       "      <td>199.569579</td>\n",
       "      <td>222.854051</td>\n",
       "      <td>192.287423</td>\n",
       "      <td>192.287423</td>\n",
       "      <td>18.912903</td>\n",
       "      <td>18.912903</td>\n",
       "      <td>18.912903</td>\n",
       "      <td>1.680496</td>\n",
       "      <td>1.680496</td>\n",
       "      <td>1.680496</td>\n",
       "      <td>17.232407</td>\n",
       "      <td>17.232407</td>\n",
       "      <td>17.232407</td>\n",
       "      <td>0.0</td>\n",
       "      <td>0.0</td>\n",
       "      <td>0.0</td>\n",
       "      <td>211.200327</td>\n",
       "    </tr>\n",
       "    <tr>\n",
       "      <th>1</th>\n",
       "      <td>2019-01-16</td>\n",
       "      <td>192.682953</td>\n",
       "      <td>200.827900</td>\n",
       "      <td>223.568811</td>\n",
       "      <td>192.682953</td>\n",
       "      <td>192.682953</td>\n",
       "      <td>19.117230</td>\n",
       "      <td>19.117230</td>\n",
       "      <td>19.117230</td>\n",
       "      <td>2.027618</td>\n",
       "      <td>2.027618</td>\n",
       "      <td>2.027618</td>\n",
       "      <td>17.089611</td>\n",
       "      <td>17.089611</td>\n",
       "      <td>17.089611</td>\n",
       "      <td>0.0</td>\n",
       "      <td>0.0</td>\n",
       "      <td>0.0</td>\n",
       "      <td>211.800183</td>\n",
       "    </tr>\n",
       "    <tr>\n",
       "      <th>2</th>\n",
       "      <td>2019-01-17</td>\n",
       "      <td>193.078483</td>\n",
       "      <td>199.029141</td>\n",
       "      <td>222.699813</td>\n",
       "      <td>193.078483</td>\n",
       "      <td>193.078483</td>\n",
       "      <td>18.178029</td>\n",
       "      <td>18.178029</td>\n",
       "      <td>18.178029</td>\n",
       "      <td>1.303664</td>\n",
       "      <td>1.303664</td>\n",
       "      <td>1.303664</td>\n",
       "      <td>16.874366</td>\n",
       "      <td>16.874366</td>\n",
       "      <td>16.874366</td>\n",
       "      <td>0.0</td>\n",
       "      <td>0.0</td>\n",
       "      <td>0.0</td>\n",
       "      <td>211.256512</td>\n",
       "    </tr>\n",
       "    <tr>\n",
       "      <th>3</th>\n",
       "      <td>2019-01-18</td>\n",
       "      <td>193.474013</td>\n",
       "      <td>200.384875</td>\n",
       "      <td>222.663186</td>\n",
       "      <td>193.474013</td>\n",
       "      <td>193.474013</td>\n",
       "      <td>17.685566</td>\n",
       "      <td>17.685566</td>\n",
       "      <td>17.685566</td>\n",
       "      <td>1.096401</td>\n",
       "      <td>1.096401</td>\n",
       "      <td>1.096401</td>\n",
       "      <td>16.589165</td>\n",
       "      <td>16.589165</td>\n",
       "      <td>16.589165</td>\n",
       "      <td>0.0</td>\n",
       "      <td>0.0</td>\n",
       "      <td>0.0</td>\n",
       "      <td>211.159579</td>\n",
       "    </tr>\n",
       "    <tr>\n",
       "      <th>4</th>\n",
       "      <td>2019-01-21</td>\n",
       "      <td>194.660602</td>\n",
       "      <td>199.302744</td>\n",
       "      <td>223.262892</td>\n",
       "      <td>194.660602</td>\n",
       "      <td>194.660602</td>\n",
       "      <td>16.472258</td>\n",
       "      <td>16.472258</td>\n",
       "      <td>16.472258</td>\n",
       "      <td>1.110670</td>\n",
       "      <td>1.110670</td>\n",
       "      <td>1.110670</td>\n",
       "      <td>15.361588</td>\n",
       "      <td>15.361588</td>\n",
       "      <td>15.361588</td>\n",
       "      <td>0.0</td>\n",
       "      <td>0.0</td>\n",
       "      <td>0.0</td>\n",
       "      <td>211.132860</td>\n",
       "    </tr>\n",
       "    <tr>\n",
       "      <th>...</th>\n",
       "      <td>...</td>\n",
       "      <td>...</td>\n",
       "      <td>...</td>\n",
       "      <td>...</td>\n",
       "      <td>...</td>\n",
       "      <td>...</td>\n",
       "      <td>...</td>\n",
       "      <td>...</td>\n",
       "      <td>...</td>\n",
       "      <td>...</td>\n",
       "      <td>...</td>\n",
       "      <td>...</td>\n",
       "      <td>...</td>\n",
       "      <td>...</td>\n",
       "      <td>...</td>\n",
       "      <td>...</td>\n",
       "      <td>...</td>\n",
       "      <td>...</td>\n",
       "      <td>...</td>\n",
       "    </tr>\n",
       "    <tr>\n",
       "      <th>609</th>\n",
       "      <td>2021-06-16</td>\n",
       "      <td>313.198124</td>\n",
       "      <td>310.192421</td>\n",
       "      <td>333.119434</td>\n",
       "      <td>313.198124</td>\n",
       "      <td>313.198124</td>\n",
       "      <td>8.079071</td>\n",
       "      <td>8.079071</td>\n",
       "      <td>8.079071</td>\n",
       "      <td>2.027618</td>\n",
       "      <td>2.027618</td>\n",
       "      <td>2.027618</td>\n",
       "      <td>6.051452</td>\n",
       "      <td>6.051452</td>\n",
       "      <td>6.051452</td>\n",
       "      <td>0.0</td>\n",
       "      <td>0.0</td>\n",
       "      <td>0.0</td>\n",
       "      <td>321.277195</td>\n",
       "    </tr>\n",
       "    <tr>\n",
       "      <th>610</th>\n",
       "      <td>2021-06-17</td>\n",
       "      <td>313.532840</td>\n",
       "      <td>309.631374</td>\n",
       "      <td>332.025802</td>\n",
       "      <td>313.532840</td>\n",
       "      <td>313.532840</td>\n",
       "      <td>7.190531</td>\n",
       "      <td>7.190531</td>\n",
       "      <td>7.190531</td>\n",
       "      <td>1.303664</td>\n",
       "      <td>1.303664</td>\n",
       "      <td>1.303664</td>\n",
       "      <td>5.886867</td>\n",
       "      <td>5.886867</td>\n",
       "      <td>5.886867</td>\n",
       "      <td>0.0</td>\n",
       "      <td>0.0</td>\n",
       "      <td>0.0</td>\n",
       "      <td>320.723371</td>\n",
       "    </tr>\n",
       "    <tr>\n",
       "      <th>611</th>\n",
       "      <td>2021-06-18</td>\n",
       "      <td>313.867556</td>\n",
       "      <td>308.847422</td>\n",
       "      <td>332.154518</td>\n",
       "      <td>313.867556</td>\n",
       "      <td>313.867556</td>\n",
       "      <td>6.787803</td>\n",
       "      <td>6.787803</td>\n",
       "      <td>6.787803</td>\n",
       "      <td>1.096401</td>\n",
       "      <td>1.096401</td>\n",
       "      <td>1.096401</td>\n",
       "      <td>5.691402</td>\n",
       "      <td>5.691402</td>\n",
       "      <td>5.691402</td>\n",
       "      <td>0.0</td>\n",
       "      <td>0.0</td>\n",
       "      <td>0.0</td>\n",
       "      <td>320.655360</td>\n",
       "    </tr>\n",
       "    <tr>\n",
       "      <th>612</th>\n",
       "      <td>2021-06-19</td>\n",
       "      <td>314.202272</td>\n",
       "      <td>297.971309</td>\n",
       "      <td>322.232347</td>\n",
       "      <td>314.202272</td>\n",
       "      <td>314.202272</td>\n",
       "      <td>-4.195554</td>\n",
       "      <td>-4.195554</td>\n",
       "      <td>-4.195554</td>\n",
       "      <td>-9.666281</td>\n",
       "      <td>-9.666281</td>\n",
       "      <td>-9.666281</td>\n",
       "      <td>5.470727</td>\n",
       "      <td>5.470727</td>\n",
       "      <td>5.470727</td>\n",
       "      <td>0.0</td>\n",
       "      <td>0.0</td>\n",
       "      <td>0.0</td>\n",
       "      <td>310.006718</td>\n",
       "    </tr>\n",
       "    <tr>\n",
       "      <th>613</th>\n",
       "      <td>2021-06-20</td>\n",
       "      <td>314.536988</td>\n",
       "      <td>310.253608</td>\n",
       "      <td>333.718311</td>\n",
       "      <td>314.536988</td>\n",
       "      <td>314.536988</td>\n",
       "      <td>7.678085</td>\n",
       "      <td>7.678085</td>\n",
       "      <td>7.678085</td>\n",
       "      <td>2.447431</td>\n",
       "      <td>2.447431</td>\n",
       "      <td>2.447431</td>\n",
       "      <td>5.230654</td>\n",
       "      <td>5.230654</td>\n",
       "      <td>5.230654</td>\n",
       "      <td>0.0</td>\n",
       "      <td>0.0</td>\n",
       "      <td>0.0</td>\n",
       "      <td>322.215074</td>\n",
       "    </tr>\n",
       "  </tbody>\n",
       "</table>\n",
       "<p>614 rows × 19 columns</p>\n",
       "</div>"
      ],
      "text/plain": [
       "            ds       trend  yhat_lower  yhat_upper  trend_lower  trend_upper  \\\n",
       "0   2019-01-15  192.287423  199.569579  222.854051   192.287423   192.287423   \n",
       "1   2019-01-16  192.682953  200.827900  223.568811   192.682953   192.682953   \n",
       "2   2019-01-17  193.078483  199.029141  222.699813   193.078483   193.078483   \n",
       "3   2019-01-18  193.474013  200.384875  222.663186   193.474013   193.474013   \n",
       "4   2019-01-21  194.660602  199.302744  223.262892   194.660602   194.660602   \n",
       "..         ...         ...         ...         ...          ...          ...   \n",
       "609 2021-06-16  313.198124  310.192421  333.119434   313.198124   313.198124   \n",
       "610 2021-06-17  313.532840  309.631374  332.025802   313.532840   313.532840   \n",
       "611 2021-06-18  313.867556  308.847422  332.154518   313.867556   313.867556   \n",
       "612 2021-06-19  314.202272  297.971309  322.232347   314.202272   314.202272   \n",
       "613 2021-06-20  314.536988  310.253608  333.718311   314.536988   314.536988   \n",
       "\n",
       "     additive_terms  additive_terms_lower  additive_terms_upper    weekly  \\\n",
       "0         18.912903             18.912903             18.912903  1.680496   \n",
       "1         19.117230             19.117230             19.117230  2.027618   \n",
       "2         18.178029             18.178029             18.178029  1.303664   \n",
       "3         17.685566             17.685566             17.685566  1.096401   \n",
       "4         16.472258             16.472258             16.472258  1.110670   \n",
       "..              ...                   ...                   ...       ...   \n",
       "609        8.079071              8.079071              8.079071  2.027618   \n",
       "610        7.190531              7.190531              7.190531  1.303664   \n",
       "611        6.787803              6.787803              6.787803  1.096401   \n",
       "612       -4.195554             -4.195554             -4.195554 -9.666281   \n",
       "613        7.678085              7.678085              7.678085  2.447431   \n",
       "\n",
       "     weekly_lower  weekly_upper     yearly  yearly_lower  yearly_upper  \\\n",
       "0        1.680496      1.680496  17.232407     17.232407     17.232407   \n",
       "1        2.027618      2.027618  17.089611     17.089611     17.089611   \n",
       "2        1.303664      1.303664  16.874366     16.874366     16.874366   \n",
       "3        1.096401      1.096401  16.589165     16.589165     16.589165   \n",
       "4        1.110670      1.110670  15.361588     15.361588     15.361588   \n",
       "..            ...           ...        ...           ...           ...   \n",
       "609      2.027618      2.027618   6.051452      6.051452      6.051452   \n",
       "610      1.303664      1.303664   5.886867      5.886867      5.886867   \n",
       "611      1.096401      1.096401   5.691402      5.691402      5.691402   \n",
       "612     -9.666281     -9.666281   5.470727      5.470727      5.470727   \n",
       "613      2.447431      2.447431   5.230654      5.230654      5.230654   \n",
       "\n",
       "     multiplicative_terms  multiplicative_terms_lower  \\\n",
       "0                     0.0                         0.0   \n",
       "1                     0.0                         0.0   \n",
       "2                     0.0                         0.0   \n",
       "3                     0.0                         0.0   \n",
       "4                     0.0                         0.0   \n",
       "..                    ...                         ...   \n",
       "609                   0.0                         0.0   \n",
       "610                   0.0                         0.0   \n",
       "611                   0.0                         0.0   \n",
       "612                   0.0                         0.0   \n",
       "613                   0.0                         0.0   \n",
       "\n",
       "     multiplicative_terms_upper        yhat  \n",
       "0                           0.0  211.200327  \n",
       "1                           0.0  211.800183  \n",
       "2                           0.0  211.256512  \n",
       "3                           0.0  211.159579  \n",
       "4                           0.0  211.132860  \n",
       "..                          ...         ...  \n",
       "609                         0.0  321.277195  \n",
       "610                         0.0  320.723371  \n",
       "611                         0.0  320.655360  \n",
       "612                         0.0  310.006718  \n",
       "613                         0.0  322.215074  \n",
       "\n",
       "[614 rows x 19 columns]"
      ]
     },
     "execution_count": 86,
     "metadata": {},
     "output_type": "execute_result"
    }
   ],
   "source": [
    "forecast"
   ]
  },
  {
   "cell_type": "code",
   "execution_count": null,
   "metadata": {},
   "outputs": [],
   "source": []
  },
  {
   "cell_type": "code",
   "execution_count": 87,
   "metadata": {
    "colab": {
     "base_uri": "https://localhost:8080/",
     "height": 266
    },
    "id": "SYR5kVNOxrC-",
    "outputId": "0ac24349-f379-434b-8dc9-98345c983dcb"
   },
   "outputs": [
    {
     "data": {
      "text/html": [
       "<div>\n",
       "<style scoped>\n",
       "    .dataframe tbody tr th:only-of-type {\n",
       "        vertical-align: middle;\n",
       "    }\n",
       "\n",
       "    .dataframe tbody tr th {\n",
       "        vertical-align: top;\n",
       "    }\n",
       "\n",
       "    .dataframe thead th {\n",
       "        text-align: right;\n",
       "    }\n",
       "</style>\n",
       "<table border=\"1\" class=\"dataframe\">\n",
       "  <thead>\n",
       "    <tr style=\"text-align: right;\">\n",
       "      <th></th>\n",
       "      <th>ds</th>\n",
       "      <th>yhat</th>\n",
       "      <th>yhat_lower</th>\n",
       "      <th>yhat_upper</th>\n",
       "    </tr>\n",
       "  </thead>\n",
       "  <tbody>\n",
       "    <tr>\n",
       "      <th>607</th>\n",
       "      <td>2021-06-14</td>\n",
       "      <td>319.906292</td>\n",
       "      <td>308.668274</td>\n",
       "      <td>332.336057</td>\n",
       "    </tr>\n",
       "    <tr>\n",
       "      <th>608</th>\n",
       "      <td>2021-06-15</td>\n",
       "      <td>320.723685</td>\n",
       "      <td>309.314850</td>\n",
       "      <td>331.884377</td>\n",
       "    </tr>\n",
       "    <tr>\n",
       "      <th>609</th>\n",
       "      <td>2021-06-16</td>\n",
       "      <td>321.277195</td>\n",
       "      <td>310.192421</td>\n",
       "      <td>333.119434</td>\n",
       "    </tr>\n",
       "    <tr>\n",
       "      <th>610</th>\n",
       "      <td>2021-06-17</td>\n",
       "      <td>320.723371</td>\n",
       "      <td>309.631374</td>\n",
       "      <td>332.025802</td>\n",
       "    </tr>\n",
       "    <tr>\n",
       "      <th>611</th>\n",
       "      <td>2021-06-18</td>\n",
       "      <td>320.655360</td>\n",
       "      <td>308.847422</td>\n",
       "      <td>332.154518</td>\n",
       "    </tr>\n",
       "    <tr>\n",
       "      <th>612</th>\n",
       "      <td>2021-06-19</td>\n",
       "      <td>310.006718</td>\n",
       "      <td>297.971309</td>\n",
       "      <td>322.232347</td>\n",
       "    </tr>\n",
       "    <tr>\n",
       "      <th>613</th>\n",
       "      <td>2021-06-20</td>\n",
       "      <td>322.215074</td>\n",
       "      <td>310.253608</td>\n",
       "      <td>333.718311</td>\n",
       "    </tr>\n",
       "  </tbody>\n",
       "</table>\n",
       "</div>"
      ],
      "text/plain": [
       "            ds        yhat  yhat_lower  yhat_upper\n",
       "607 2021-06-14  319.906292  308.668274  332.336057\n",
       "608 2021-06-15  320.723685  309.314850  331.884377\n",
       "609 2021-06-16  321.277195  310.192421  333.119434\n",
       "610 2021-06-17  320.723371  309.631374  332.025802\n",
       "611 2021-06-18  320.655360  308.847422  332.154518\n",
       "612 2021-06-19  310.006718  297.971309  322.232347\n",
       "613 2021-06-20  322.215074  310.253608  333.718311"
      ]
     },
     "execution_count": 87,
     "metadata": {},
     "output_type": "execute_result"
    }
   ],
   "source": [
    "\n",
    "\n",
    "forecast[['ds', 'yhat', 'yhat_lower', 'yhat_upper']].tail(7)\n"
   ]
  },
  {
   "cell_type": "code",
   "execution_count": 89,
   "metadata": {
    "colab": {
     "base_uri": "https://localhost:8080/",
     "height": 285
    },
    "id": "Oi0-VKGkT1om",
    "outputId": "554796ba-0017-4824-d08c-6abedf4aa5fe"
   },
   "outputs": [
    {
     "data": {
      "text/plain": [
       "<AxesSubplot:>"
      ]
     },
     "execution_count": 89,
     "metadata": {},
     "output_type": "execute_result"
    },
    {
     "data": {
      "image/png": "[encoded data removed]",
      "text/plain": [
       "<Figure size 432x288 with 1 Axes>"
      ]
     },
     "metadata": {
      "needs_background": "light"
     },
     "output_type": "display_data"
    }
   ],
   "source": [
    "forecast[[ 'yhat', 'yhat_lower', 'yhat_upper']].plot()"
   ]
  },
  {
   "cell_type": "code",
   "execution_count": 90,
   "metadata": {
    "id": "tr-rVxyhyGig"
   },
   "outputs": [],
   "source": [
    "forecast.set_index('ds',inplace=True)"
   ]
  },
  {
   "cell_type": "code",
   "execution_count": 91,
   "metadata": {
    "colab": {
     "base_uri": "https://localhost:8080/"
    },
    "id": "dv2jQcqzyYzi",
    "outputId": "78972980-c424-41e4-a4d2-f262549e51a9"
   },
   "outputs": [
    {
     "data": {
      "text/plain": [
       "ds\n",
       "2021-06-14    319.906292\n",
       "2021-06-15    320.723685\n",
       "2021-06-16    321.277195\n",
       "2021-06-17    320.723371\n",
       "2021-06-18    320.655360\n",
       "2021-06-19    310.006718\n",
       "2021-06-20    322.215074\n",
       "Name: yhat, dtype: float64"
      ]
     },
     "execution_count": 91,
     "metadata": {},
     "output_type": "execute_result"
    }
   ],
   "source": [
    "forecast['yhat'].tail(7)"
   ]
  },
  {
   "cell_type": "code",
   "execution_count": 93,
   "metadata": {
    "colab": {
     "base_uri": "https://localhost:8080/",
     "height": 553
    },
    "id": "OOmviSg-x6k7",
    "outputId": "60d24524-550f-4c3d-f3bc-b1a703f674fc"
   },
   "outputs": [
    {
     "data": {
      "image/png": "[encoded data removed]",
      "text/plain": [
       "<Figure size 1440x648 with 1 Axes>"
      ]
     },
     "metadata": {
      "needs_background": "light"
     },
     "output_type": "display_data"
    }
   ],
   "source": [
    "plt.figure(figsize=(20, 9))\n",
    "plt.plot(forecast['yhat'].tail(10), \"r\",linewidth=1, label=\"Facebook\")\n",
    "\n",
    "# plt.plot(df.values,'b' ,label=\"actual\", linewidth=5, alpha = 0.5)\n",
    "plt.legend(loc=\"best\")\n",
    "plt.title(\"Оценка моделей\")\n",
    "plt.grid(True);"
   ]
  },
  {
   "cell_type": "code",
   "execution_count": null,
   "metadata": {},
   "outputs": [],
   "source": []
  },
  {
   "cell_type": "code",
   "execution_count": null,
   "metadata": {},
   "outputs": [],
   "source": []
  },
  {
   "cell_type": "code",
   "execution_count": null,
   "metadata": {},
   "outputs": [],
   "source": []
  }
 ],
 "metadata": {
  "colab": {
   "collapsed_sections": [],
   "name": "lec1_ts.ipynb",
   "provenance": []
  },
  "kernelspec": {
   "display_name": "Python 3 (ipykernel)",
   "language": "python",
   "name": "python3"
  },
  "language_info": {
   "codemirror_mode": {
    "name": "ipython",
    "version": 3
   },
   "file_extension": ".py",
   "mimetype": "text/x-python",
   "name": "python",
   "nbconvert_exporter": "python",
   "pygments_lexer": "ipython3",
   "version": "3.10.7"
  }
 },
 "nbformat": 4,
 "nbformat_minor": 4
}

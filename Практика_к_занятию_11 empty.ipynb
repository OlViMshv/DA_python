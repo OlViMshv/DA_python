{
 "cells": [
  {
   "cell_type": "markdown",
   "metadata": {
    "id": "pDrecLU-4QjS"
   },
   "source": [
    "# Практика"
   ]
  },
  {
   "cell_type": "markdown",
   "metadata": {
    "id": "gUvTNDlMaV-a"
   },
   "source": [
    "## Определение вероятности. События\n",
    "\n",
    "Требуется сгенерировать необходимые выборки и произвести по ним расчеты"
   ]
  },
  {
   "cell_type": "markdown",
   "metadata": {
    "id": "5V70InEBTgup"
   },
   "source": [
    "### Задача 1\n",
    "Брошено две монеты. Найти вероятность того, что монеты выпали разными сторонами"
   ]
  },
  {
   "cell_type": "code",
   "execution_count": 241,
   "metadata": {
    "id": "88Iw-SL3jYQV"
   },
   "outputs": [],
   "source": [
    "import pandas as pd\n",
    "import numpy as np\n",
    "import matplotlib.pyplot as plt\n",
    "import scipy.stats as sts"
   ]
  },
  {
   "cell_type": "code",
   "execution_count": 133,
   "metadata": {},
   "outputs": [
    {
     "name": "stdout",
     "output_type": "stream",
     "text": [
      "   m1  m2\n",
      "0   1   1\n",
      "1   0   1\n",
      "2   1   0\n",
      "3   0   1\n",
      "вероятность того, что монеты выпали разными сторонами = 0.75\n"
     ]
    }
   ],
   "source": [
    "n = 4\n",
    "bernoulli_rv1 = sts.bernoulli(0.5)\n",
    "bernoulli_rv2 = sts.bernoulli(0.5)\n",
    "b1 = bernoulli_rv1.rvs(n)\n",
    "b2 = bernoulli_rv2.rvs(n)\n",
    "df = pd.DataFrame (zip(b1, b2), columns = [\"m1\",\"m2\"])\n",
    "print (df)\n",
    "print ('вероятность того, что монеты выпали разными сторонами =', df [df.m1 != df.m2 ].shape[0]/n)\n"
   ]
  },
  {
   "cell_type": "markdown",
   "metadata": {
    "id": "t0XOMos2Tl0e"
   },
   "source": [
    "### Задача 2\n",
    "Брошено три монеты. Описать множество всех элементарных событий. Найти вероятности следующих событий:\n",
    "\n",
    "\n",
    "1.   A = {не выпало ни одного герба}\n",
    "2.   B = {выпало четное число гербов}\n",
    "3.   C = {на третьей монете выпал герб}\n"
   ]
  },
  {
   "cell_type": "code",
   "execution_count": 88,
   "metadata": {
    "id": "o7NjAE9uUo-L"
   },
   "outputs": [
    {
     "name": "stdout",
     "output_type": "stream",
     "text": [
      "    m1  m2  m3\n",
      "0    0   1   1\n",
      "1    0   1   1\n",
      "2    0   0   1\n",
      "3    1   0   1\n",
      "4    1   0   0\n",
      "5    0   1   0\n",
      "6    0   1   0\n",
      "7    0   0   1\n",
      "8    1   0   0\n",
      "9    1   1   1\n",
      "10   1   1   0\n",
      "11   1   0   0\n",
      "12   1   0   0\n",
      "13   0   1   0\n",
      "14   1   1   1\n",
      "15   0   1   1\n",
      "16   0   0   0\n",
      "17   1   0   0\n",
      "18   1   0   0\n",
      "19   0   0   0\n",
      "не выпало ни одного герба 0.1\n",
      "выпало четное число гербов 0.55\n",
      "на третьей монете выпал герб 0.6\n"
     ]
    }
   ],
   "source": [
    "# Герб - 0\n",
    "n = 20\n",
    "bernoulli_rv1 = sts.bernoulli(0.5)\n",
    "bernoulli_rv2 = sts.bernoulli(0.5)\n",
    "bernoulli_rv3 = sts.bernoulli(0.5)\n",
    "b1 = bernoulli_rv1.rvs(n)\n",
    "b2 = bernoulli_rv2.rvs(n)\n",
    "b3 = bernoulli_rv3.rvs(n)\n",
    "\n",
    "df = pd.DataFrame (zip(b1, b2, b3), columns = [\"m1\",\"m2\",\"m3\" ])\n",
    "print (df)\n",
    "print ('не выпало ни одного герба', df [(df.m1 != 0) & (df.m2 != 0) & (df.m3 != 0)].shape[0]/n)\n",
    "print ('выпало четное число гербов', df [df.m1 + df.m2 + df.m3 == 1].shape[0]/n)\n",
    "print ('на третьей монете выпал герб', df [(df.m3 == 0)].shape[0]/n)"
   ]
  },
  {
   "cell_type": "markdown",
   "metadata": {},
   "source": [
    "Предлагается также решить задачи: \n",
    "\n",
    "### Задача 3\n",
    "Из двух претендентов E и L на ответственную должность три члена комиссии должны отобрать одного. Каждый член комиссии должен указать либо одного достойного, либо забраковать обоих. Претендент считается выбранным, если он был признана достойным хотя бы двумя членами комиссии.\n",
    "Найти вероятность событий:\n",
    "\n",
    "A = {рекомендован L}, B = {рекомендован E}\n"
   ]
  },
  {
   "cell_type": "code",
   "execution_count": 414,
   "metadata": {
    "scrolled": true
   },
   "outputs": [
    {
     "name": "stdout",
     "output_type": "stream",
     "text": [
      "   E  L\n",
      "0  1  0\n",
      "1  0  1\n",
      "2  0  0\n",
      "рекомендован E\n"
     ]
    }
   ],
   "source": [
    "# не понимаю как задать выборку\n",
    "n = 3\n",
    "bernoulli_rv1 = sts.bernoulli(0.5)\n",
    "#bernoulli_rv2 = sts.bernoulli(0.5)\n",
    "\n",
    "b1 = bernoulli_rv1.rvs(n)\n",
    "#b2 = bernoulli_rv2.rvs(n)\n",
    "#нужно условие если б1=1 то б2=0?\n",
    "\n",
    "df = pd.DataFrame (zip(b1, b2), columns = [\"E\",\"L\"])\n",
    "\n",
    "print(df)\n",
    "sumL = df['L'].sum()\n",
    "sumE = df['E'].sum()\n",
    "\n",
    "if sumL>sumE:\n",
    "    print('рекомендован L')\n",
    "else: \n",
    "    sumE>2\n",
    "    print('рекомендован E')\n",
    "\n",
    "\n",
    "#print ('рекомендован E', df [((df.cub1 ==6)&(df.cub2 ==6))].shape[0]/n)"
   ]
  },
  {
   "cell_type": "markdown",
   "metadata": {
    "id": "peM38mVfYa5B"
   },
   "source": [
    "### Задача 4\n",
    "Брошено две игральных кости. Описать множество элементарных событий. Найти вероятности событий:\n",
    "\n",
    "A = {вышло две \"шестерки\"}\n",
    "\n",
    "B = {сумма выпавших очков не меньше 11}\n",
    "\n",
    "C = {не выпала ни одна \"шестерка\"}"
   ]
  },
  {
   "cell_type": "markdown",
   "metadata": {
    "id": "f-Bi0p8haclB"
   },
   "source": [
    "## Вероятность суммы событий"
   ]
  },
  {
   "cell_type": "code",
   "execution_count": 266,
   "metadata": {},
   "outputs": [
    {
     "name": "stdout",
     "output_type": "stream",
     "text": [
      "   cub1  cub2\n",
      "0     3     3\n",
      "1     5     3\n",
      "2     3     6\n",
      "3     6     5\n",
      "4     6     5\n",
      "5     6     4\n",
      "6     3     6\n",
      "7     6     5\n",
      "8     5     3\n",
      "9     1     2\n",
      "вышло две \"шестерки\" 0.0\n",
      "сумма выпавших очков не меньше 11\" 0.3\n",
      "не выпала ни одна \"шестерка\" 0.4\n"
     ]
    }
   ],
   "source": [
    "n=10\n",
    "values1 = []\n",
    "values2 = []\n",
    "\n",
    "for x in range(n):\n",
    "    values1.append (np.random.randint(1, 7))\n",
    "    values2.append (np.random.randint(1, 7))\n",
    "         \n",
    "df = pd.DataFrame(zip(values1, values2 ),columns = [\"cub1\",\"cub2\"] ) \n",
    "\n",
    "print (df)\n",
    "\n",
    "print ('вышло две \"шестерки\"', df [((df.cub1 ==6)&(df.cub2 ==6))].shape[0]/n)\n",
    "print ('сумма выпавших очков не меньше 11\"', df [((df.cub1 + df.cub2)>=11)].shape[0]/n)\n",
    "print ('не выпала ни одна \"шестерка\"', df [(df.cub1 != 6)&(df.cub2 != 6) ].shape[0]/n)"
   ]
  },
  {
   "cell_type": "markdown",
   "metadata": {
    "id": "g7A7QlvGTnwZ"
   },
   "source": [
    "### Задача 5\n",
    "Брошены две игральные кости. Найти вероятность события D = {выпала хотя бы одна шестёрка}\n"
   ]
  },
  {
   "cell_type": "code",
   "execution_count": 256,
   "metadata": {
    "id": "vjtTJN-kUp9D",
    "scrolled": true
   },
   "outputs": [
    {
     "name": "stdout",
     "output_type": "stream",
     "text": [
      "   cub1  cub2\n",
      "0     2     4\n",
      "1     4     6\n",
      "2     4     1\n",
      "3     2     1\n",
      "4     3     6\n",
      "выпала хотя бы одна шестёрка 0.4\n"
     ]
    }
   ],
   "source": [
    "n=5\n",
    "values1 = []\n",
    "values2 = []\n",
    "\n",
    "for x in range(n):\n",
    "    values1.append (np.random.randint(1, 7))\n",
    "    values2.append (np.random.randint(1, 7))\n",
    "         \n",
    "df = pd.DataFrame(zip(values1, values2 ),columns = [\"cub1\",\"cub2\"] ) \n",
    "\n",
    "print (df)\n",
    "\n",
    "print ('выпала хотя бы одна шестёрка',\\\n",
    "       df [((df.cub1 ==6)&(df.cub2 !=6))|((df.cub1 !=6)&(df.cub2 ==6))|((df.cub1 ==6)&(df.cub2 ==6)) ].shape[0]/n)"
   ]
  },
  {
   "cell_type": "markdown",
   "metadata": {
    "id": "R1bYSzQQbC6I"
   },
   "source": [
    "Предлагается также решить задачи: \n",
    "\n",
    "### Задача 6\n",
    "В телефонном номере три последние цифры стерлись. Считая, что все возможные значения стершихся цифр равновероятны, найти вероятность событий:\n",
    "\n",
    "A = {Стерлись различные цифры},\n",
    "\n",
    "B = {Стерлись одинаковые цифры},\n",
    "\n",
    "C = {Среди стершихся цифр хотя бы две совпадают},\n",
    "\n",
    "D = {Среди стершихся цифр хотя бы две различны}\n"
   ]
  },
  {
   "cell_type": "code",
   "execution_count": null,
   "metadata": {},
   "outputs": [],
   "source": []
  },
  {
   "cell_type": "markdown",
   "metadata": {
    "id": "RnugkR8BalK_"
   },
   "source": [
    "## Случайные величины"
   ]
  },
  {
   "cell_type": "markdown",
   "metadata": {
    "id": "yLoZDZ17UVsp"
   },
   "source": [
    "### Задача 7\n",
    "В лотерее имеется 10 билетов, из которых один выигрышный. Размер выигрыша 10 ден. ед.; стоимость билета 1 ден ед. Найти закон распределения случайной величины X, равной чистому выигрышу участника лотереи, который вытаскивает билет первым."
   ]
  },
  {
   "cell_type": "code",
   "execution_count": 402,
   "metadata": {
    "id": "oNk432sKUqzT",
    "scrolled": false
   },
   "outputs": [
    {
     "data": {
      "text/plain": [
       "array([0, 0, 1, 0, 0, 0, 0, 0, 0, 0])"
      ]
     },
     "execution_count": 402,
     "metadata": {},
     "output_type": "execute_result"
    }
   ],
   "source": [
    "# не понимаю как задать выборку\n",
    "elements = np.array([0, 1])\n",
    "probabilities = [0.9, 0.1]\n",
    "np.random.choice(elements, 10, p=probabilities)"
   ]
  },
  {
   "cell_type": "code",
   "execution_count": 403,
   "metadata": {},
   "outputs": [
    {
     "data": {
      "text/plain": [
       "array([0, 0, 0, 0, 0, 0, 1, 0, 0, 0])"
      ]
     },
     "execution_count": 403,
     "metadata": {},
     "output_type": "execute_result"
    }
   ],
   "source": [
    "# не понимаю как задать выборку\n",
    "binomial_rv = sts.binom(1, 0.1) # 20 испытаний с вероятностью успеха 0.4\n",
    "\n",
    "binomial_rv.rvs(10)"
   ]
  },
  {
   "cell_type": "markdown",
   "metadata": {
    "id": "U-NK9liSbpvb"
   },
   "source": [
    "Предлагается также решить задачу: \n",
    "\n",
    "### Задача 8\n",
    "Брошены две игральные кости. Найти закон распределения случайной величины $X$, равной сумме выпавших очков. Найти вероятности событий ${X <= 4}$, ${X > 4}$"
   ]
  },
  {
   "cell_type": "code",
   "execution_count": 371,
   "metadata": {},
   "outputs": [
    {
     "name": "stdout",
     "output_type": "stream",
     "text": [
      "    0\n",
      "0   7\n",
      "1   7\n",
      "2  12\n",
      "3   3\n",
      "4   9\n",
      "5   5\n",
      "6   9\n",
      "7   5\n",
      "8   8\n",
      "вероятности событий  𝑋<=4  0.1111111111111111\n",
      "вероятности событий  𝑋>4  0.8888888888888888\n"
     ]
    }
   ],
   "source": [
    "n=9\n",
    "values = []\n",
    "\n",
    "for x in range(n):\n",
    "    values.append(np.random.randint(1, 7) + np.random.randint(1, 7))\n",
    "df = pd.DataFrame(values)    \n",
    "print(df)\n",
    "print ('вероятности событий  𝑋<=4 ', df [df[0] <= 4 ].shape[0]/n)\n",
    "print ('вероятности событий  𝑋>4 ', df [df[0] > 4 ].shape[0]/n)"
   ]
  },
  {
   "cell_type": "markdown",
   "metadata": {
    "id": "shgW4D83awjK"
   },
   "source": [
    "## Условные вероятности"
   ]
  },
  {
   "cell_type": "markdown",
   "metadata": {
    "id": "Fbu1RFZwWZrk"
   },
   "source": [
    "### Задача 9\n",
    "Из колоды (36 карт) вынимают последовательно без возвращения две карты. Найти вероятность того, что первой картой была шестерка, а второй — семерка. Найти условную вероятность того же события при условии, что обе карты бубновой масти.\n"
   ]
  },
  {
   "cell_type": "code",
   "execution_count": null,
   "metadata": {
    "id": "037o56awW9-E"
   },
   "outputs": [],
   "source": []
  },
  {
   "cell_type": "markdown",
   "metadata": {
    "id": "hNVxtaz5c57b"
   },
   "source": [
    "Предлагается также решить задачу: \n",
    "\n",
    "### Задача 10\n",
    "Из урны, содержащей два белых и три черных шара, последовательно извлекают два шара; вынутые шары не возвращаются. Если первый шар оказался черным, то перед вторым извлечением в урну добавляют белый шар. В противном случае состав оставшихся шаров не меняют. Найти вероятности событий:\n",
    "\n",
    "$A$ = {извлечены два белых шара},\n",
    "\n",
    "$B$ = {извлечены два черных шара}\n",
    "\n",
    "Указание. Пусть событие $C_1$ = {первый шар белый}, событие $C_2$ = {второй шар белый}. Тогда $A = C_1C_2$, $B = \\overline C_1 \\overline C_2$ "
   ]
  },
  {
   "cell_type": "code",
   "execution_count": null,
   "metadata": {
    "id": "WSLnhk2sdBt_"
   },
   "outputs": [],
   "source": []
  }
 ],
 "metadata": {
  "colab": {
   "collapsed_sections": [],
   "name": "Практика к занятию 11.ipynb",
   "provenance": []
  },
  "kernelspec": {
   "display_name": "Python 3",
   "language": "python",
   "name": "python3"
  },
  "language_info": {
   "codemirror_mode": {
    "name": "ipython",
    "version": 3
   },
   "file_extension": ".py",
   "mimetype": "text/x-python",
   "name": "python",
   "nbconvert_exporter": "python",
   "pygments_lexer": "ipython3",
   "version": "3.8.8"
  }
 },
 "nbformat": 4,
 "nbformat_minor": 1
}
